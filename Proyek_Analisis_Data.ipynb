{
 "cells": [
  {
   "cell_type": "markdown",
   "metadata": {
    "id": "H9wADwK78DCz"
   },
   "source": [
    "# Proyek Analisis Data: [Bike Sharing]\n",
    "- **Nama:** [Muhammad Dila]\n",
    "- **Email:** [muhammaddila.all@gmail.com]\n",
    "- **ID Dicoding:** [muhdila]"
   ]
  },
  {
   "cell_type": "markdown",
   "metadata": {
    "id": "eE0raob58DC0"
   },
   "source": [
    "## Menentukan Pertanyaan Bisnis"
   ]
  },
  {
   "cell_type": "markdown",
   "metadata": {
    "id": "GmQeQ5YF8DC0"
   },
   "source": [
    "- Kapan waktu paling sibuk dalam sehari untuk penggunaan sepeda, dan bagaimana tren ini berbeda antara hari kerja dan akhir pekan?\n",
    "- Bagaimana tren penggunaan sepeda berdasarkan musim?\n",
    "- Faktor apa yang paling berpengaruh terhadap jumlah peminjaman sepeda?"
   ]
  },
  {
   "cell_type": "markdown",
   "metadata": {
    "id": "H-z4QGlO8DC1"
   },
   "source": [
    "## Import Semua Packages/Library yang Digunakan"
   ]
  },
  {
   "cell_type": "code",
   "execution_count": 1,
   "metadata": {
    "id": "FVYwaObI8DC1"
   },
   "outputs": [],
   "source": [
    "import numpy as np\n",
    "import pandas as pd\n",
    "import matplotlib.pyplot as plt\n",
    "import seaborn as sns\n",
    "import statsmodels.api as sm"
   ]
  },
  {
   "cell_type": "markdown",
   "metadata": {
    "id": "h_Sh51Xy8DC1",
    "jp-MarkdownHeadingCollapsed": true
   },
   "source": [
    "## Data Wrangling"
   ]
  },
  {
   "cell_type": "markdown",
   "metadata": {
    "id": "h_Sh51Xy8DC1"
   },
   "source": [
    "### Gathering Data"
   ]
  },
  {
   "cell_type": "code",
   "execution_count": 2,
   "metadata": {},
   "outputs": [
    {
     "data": {
      "text/html": [
       "<div>\n",
       "<style scoped>\n",
       "    .dataframe tbody tr th:only-of-type {\n",
       "        vertical-align: middle;\n",
       "    }\n",
       "\n",
       "    .dataframe tbody tr th {\n",
       "        vertical-align: top;\n",
       "    }\n",
       "\n",
       "    .dataframe thead th {\n",
       "        text-align: right;\n",
       "    }\n",
       "</style>\n",
       "<table border=\"1\" class=\"dataframe\">\n",
       "  <thead>\n",
       "    <tr style=\"text-align: right;\">\n",
       "      <th></th>\n",
       "      <th>instant</th>\n",
       "      <th>dteday</th>\n",
       "      <th>season</th>\n",
       "      <th>yr</th>\n",
       "      <th>mnth</th>\n",
       "      <th>holiday</th>\n",
       "      <th>weekday</th>\n",
       "      <th>workingday</th>\n",
       "      <th>weathersit</th>\n",
       "      <th>temp</th>\n",
       "      <th>atemp</th>\n",
       "      <th>hum</th>\n",
       "      <th>windspeed</th>\n",
       "      <th>casual</th>\n",
       "      <th>registered</th>\n",
       "      <th>cnt</th>\n",
       "    </tr>\n",
       "  </thead>\n",
       "  <tbody>\n",
       "    <tr>\n",
       "      <th>0</th>\n",
       "      <td>1</td>\n",
       "      <td>2011-01-01</td>\n",
       "      <td>1</td>\n",
       "      <td>0</td>\n",
       "      <td>1</td>\n",
       "      <td>0</td>\n",
       "      <td>6</td>\n",
       "      <td>0</td>\n",
       "      <td>2</td>\n",
       "      <td>0.344167</td>\n",
       "      <td>0.363625</td>\n",
       "      <td>0.805833</td>\n",
       "      <td>0.160446</td>\n",
       "      <td>331</td>\n",
       "      <td>654</td>\n",
       "      <td>985</td>\n",
       "    </tr>\n",
       "    <tr>\n",
       "      <th>1</th>\n",
       "      <td>2</td>\n",
       "      <td>2011-01-02</td>\n",
       "      <td>1</td>\n",
       "      <td>0</td>\n",
       "      <td>1</td>\n",
       "      <td>0</td>\n",
       "      <td>0</td>\n",
       "      <td>0</td>\n",
       "      <td>2</td>\n",
       "      <td>0.363478</td>\n",
       "      <td>0.353739</td>\n",
       "      <td>0.696087</td>\n",
       "      <td>0.248539</td>\n",
       "      <td>131</td>\n",
       "      <td>670</td>\n",
       "      <td>801</td>\n",
       "    </tr>\n",
       "    <tr>\n",
       "      <th>2</th>\n",
       "      <td>3</td>\n",
       "      <td>2011-01-03</td>\n",
       "      <td>1</td>\n",
       "      <td>0</td>\n",
       "      <td>1</td>\n",
       "      <td>0</td>\n",
       "      <td>1</td>\n",
       "      <td>1</td>\n",
       "      <td>1</td>\n",
       "      <td>0.196364</td>\n",
       "      <td>0.189405</td>\n",
       "      <td>0.437273</td>\n",
       "      <td>0.248309</td>\n",
       "      <td>120</td>\n",
       "      <td>1229</td>\n",
       "      <td>1349</td>\n",
       "    </tr>\n",
       "    <tr>\n",
       "      <th>3</th>\n",
       "      <td>4</td>\n",
       "      <td>2011-01-04</td>\n",
       "      <td>1</td>\n",
       "      <td>0</td>\n",
       "      <td>1</td>\n",
       "      <td>0</td>\n",
       "      <td>2</td>\n",
       "      <td>1</td>\n",
       "      <td>1</td>\n",
       "      <td>0.200000</td>\n",
       "      <td>0.212122</td>\n",
       "      <td>0.590435</td>\n",
       "      <td>0.160296</td>\n",
       "      <td>108</td>\n",
       "      <td>1454</td>\n",
       "      <td>1562</td>\n",
       "    </tr>\n",
       "    <tr>\n",
       "      <th>4</th>\n",
       "      <td>5</td>\n",
       "      <td>2011-01-05</td>\n",
       "      <td>1</td>\n",
       "      <td>0</td>\n",
       "      <td>1</td>\n",
       "      <td>0</td>\n",
       "      <td>3</td>\n",
       "      <td>1</td>\n",
       "      <td>1</td>\n",
       "      <td>0.226957</td>\n",
       "      <td>0.229270</td>\n",
       "      <td>0.436957</td>\n",
       "      <td>0.186900</td>\n",
       "      <td>82</td>\n",
       "      <td>1518</td>\n",
       "      <td>1600</td>\n",
       "    </tr>\n",
       "  </tbody>\n",
       "</table>\n",
       "</div>"
      ],
      "text/plain": [
       "   instant      dteday  season  yr  mnth  holiday  weekday  workingday  \\\n",
       "0        1  2011-01-01       1   0     1        0        6           0   \n",
       "1        2  2011-01-02       1   0     1        0        0           0   \n",
       "2        3  2011-01-03       1   0     1        0        1           1   \n",
       "3        4  2011-01-04       1   0     1        0        2           1   \n",
       "4        5  2011-01-05       1   0     1        0        3           1   \n",
       "\n",
       "   weathersit      temp     atemp       hum  windspeed  casual  registered  \\\n",
       "0           2  0.344167  0.363625  0.805833   0.160446     331         654   \n",
       "1           2  0.363478  0.353739  0.696087   0.248539     131         670   \n",
       "2           1  0.196364  0.189405  0.437273   0.248309     120        1229   \n",
       "3           1  0.200000  0.212122  0.590435   0.160296     108        1454   \n",
       "4           1  0.226957  0.229270  0.436957   0.186900      82        1518   \n",
       "\n",
       "    cnt  \n",
       "0   985  \n",
       "1   801  \n",
       "2  1349  \n",
       "3  1562  \n",
       "4  1600  "
      ]
     },
     "execution_count": 2,
     "metadata": {},
     "output_type": "execute_result"
    }
   ],
   "source": [
    "# Membaca dataset \"day.csv\" dan menyimpannya dalam DataFrame\n",
    "day_df = pd.read_csv(\"data/day.csv\")\n",
    "\n",
    "# Menampilkan 5 baris pertama dari dataset untuk melihat struktur awal data\n",
    "day_df.head()"
   ]
  },
  {
   "cell_type": "code",
   "execution_count": 3,
   "metadata": {},
   "outputs": [
    {
     "data": {
      "text/html": [
       "<div>\n",
       "<style scoped>\n",
       "    .dataframe tbody tr th:only-of-type {\n",
       "        vertical-align: middle;\n",
       "    }\n",
       "\n",
       "    .dataframe tbody tr th {\n",
       "        vertical-align: top;\n",
       "    }\n",
       "\n",
       "    .dataframe thead th {\n",
       "        text-align: right;\n",
       "    }\n",
       "</style>\n",
       "<table border=\"1\" class=\"dataframe\">\n",
       "  <thead>\n",
       "    <tr style=\"text-align: right;\">\n",
       "      <th></th>\n",
       "      <th>instant</th>\n",
       "      <th>dteday</th>\n",
       "      <th>season</th>\n",
       "      <th>yr</th>\n",
       "      <th>mnth</th>\n",
       "      <th>hr</th>\n",
       "      <th>holiday</th>\n",
       "      <th>weekday</th>\n",
       "      <th>workingday</th>\n",
       "      <th>weathersit</th>\n",
       "      <th>temp</th>\n",
       "      <th>atemp</th>\n",
       "      <th>hum</th>\n",
       "      <th>windspeed</th>\n",
       "      <th>casual</th>\n",
       "      <th>registered</th>\n",
       "      <th>cnt</th>\n",
       "    </tr>\n",
       "  </thead>\n",
       "  <tbody>\n",
       "    <tr>\n",
       "      <th>0</th>\n",
       "      <td>1</td>\n",
       "      <td>2011-01-01</td>\n",
       "      <td>1</td>\n",
       "      <td>0</td>\n",
       "      <td>1</td>\n",
       "      <td>0</td>\n",
       "      <td>0</td>\n",
       "      <td>6</td>\n",
       "      <td>0</td>\n",
       "      <td>1</td>\n",
       "      <td>0.24</td>\n",
       "      <td>0.2879</td>\n",
       "      <td>0.81</td>\n",
       "      <td>0.0</td>\n",
       "      <td>3</td>\n",
       "      <td>13</td>\n",
       "      <td>16</td>\n",
       "    </tr>\n",
       "    <tr>\n",
       "      <th>1</th>\n",
       "      <td>2</td>\n",
       "      <td>2011-01-01</td>\n",
       "      <td>1</td>\n",
       "      <td>0</td>\n",
       "      <td>1</td>\n",
       "      <td>1</td>\n",
       "      <td>0</td>\n",
       "      <td>6</td>\n",
       "      <td>0</td>\n",
       "      <td>1</td>\n",
       "      <td>0.22</td>\n",
       "      <td>0.2727</td>\n",
       "      <td>0.80</td>\n",
       "      <td>0.0</td>\n",
       "      <td>8</td>\n",
       "      <td>32</td>\n",
       "      <td>40</td>\n",
       "    </tr>\n",
       "    <tr>\n",
       "      <th>2</th>\n",
       "      <td>3</td>\n",
       "      <td>2011-01-01</td>\n",
       "      <td>1</td>\n",
       "      <td>0</td>\n",
       "      <td>1</td>\n",
       "      <td>2</td>\n",
       "      <td>0</td>\n",
       "      <td>6</td>\n",
       "      <td>0</td>\n",
       "      <td>1</td>\n",
       "      <td>0.22</td>\n",
       "      <td>0.2727</td>\n",
       "      <td>0.80</td>\n",
       "      <td>0.0</td>\n",
       "      <td>5</td>\n",
       "      <td>27</td>\n",
       "      <td>32</td>\n",
       "    </tr>\n",
       "    <tr>\n",
       "      <th>3</th>\n",
       "      <td>4</td>\n",
       "      <td>2011-01-01</td>\n",
       "      <td>1</td>\n",
       "      <td>0</td>\n",
       "      <td>1</td>\n",
       "      <td>3</td>\n",
       "      <td>0</td>\n",
       "      <td>6</td>\n",
       "      <td>0</td>\n",
       "      <td>1</td>\n",
       "      <td>0.24</td>\n",
       "      <td>0.2879</td>\n",
       "      <td>0.75</td>\n",
       "      <td>0.0</td>\n",
       "      <td>3</td>\n",
       "      <td>10</td>\n",
       "      <td>13</td>\n",
       "    </tr>\n",
       "    <tr>\n",
       "      <th>4</th>\n",
       "      <td>5</td>\n",
       "      <td>2011-01-01</td>\n",
       "      <td>1</td>\n",
       "      <td>0</td>\n",
       "      <td>1</td>\n",
       "      <td>4</td>\n",
       "      <td>0</td>\n",
       "      <td>6</td>\n",
       "      <td>0</td>\n",
       "      <td>1</td>\n",
       "      <td>0.24</td>\n",
       "      <td>0.2879</td>\n",
       "      <td>0.75</td>\n",
       "      <td>0.0</td>\n",
       "      <td>0</td>\n",
       "      <td>1</td>\n",
       "      <td>1</td>\n",
       "    </tr>\n",
       "  </tbody>\n",
       "</table>\n",
       "</div>"
      ],
      "text/plain": [
       "   instant      dteday  season  yr  mnth  hr  holiday  weekday  workingday  \\\n",
       "0        1  2011-01-01       1   0     1   0        0        6           0   \n",
       "1        2  2011-01-01       1   0     1   1        0        6           0   \n",
       "2        3  2011-01-01       1   0     1   2        0        6           0   \n",
       "3        4  2011-01-01       1   0     1   3        0        6           0   \n",
       "4        5  2011-01-01       1   0     1   4        0        6           0   \n",
       "\n",
       "   weathersit  temp   atemp   hum  windspeed  casual  registered  cnt  \n",
       "0           1  0.24  0.2879  0.81        0.0       3          13   16  \n",
       "1           1  0.22  0.2727  0.80        0.0       8          32   40  \n",
       "2           1  0.22  0.2727  0.80        0.0       5          27   32  \n",
       "3           1  0.24  0.2879  0.75        0.0       3          10   13  \n",
       "4           1  0.24  0.2879  0.75        0.0       0           1    1  "
      ]
     },
     "execution_count": 3,
     "metadata": {},
     "output_type": "execute_result"
    }
   ],
   "source": [
    "# Membaca dataset \"hour.csv\" dan menyimpannya dalam DataFrame\n",
    "hour_df = pd.read_csv(\"data/hour.csv\")\n",
    "\n",
    "# Menampilkan 5 baris pertama dari dataset untuk melihat struktur awal data\n",
    "hour_df.head()"
   ]
  },
  {
   "cell_type": "markdown",
   "metadata": {
    "id": "MMi6xGaDkbCi"
   },
   "source": [
    "**Insight:**\n",
    "- Dataset berhasil dimuat menggunakan `pd.read_csv()`.\n",
    "- Dataset terdiri dari dua tabel utama: `day.csv` (data bike sharing harian) dan `hour.csv` (data bike sharing per jam).\n",
    "- Data siap untuk dieksplorasi lebih lanjut dalam tahap Assessing Data guna menemukan potensi masalah seperti missing values, duplikasi, atau format data yang perlu diperbaiki."
   ]
  },
  {
   "cell_type": "markdown",
   "metadata": {
    "id": "FHSiqaZp8DC1",
    "jp-MarkdownHeadingCollapsed": true
   },
   "source": [
    "### Assessing Data"
   ]
  },
  {
   "cell_type": "code",
   "execution_count": 4,
   "metadata": {
    "id": "ax-3tEjc9Cj1"
   },
   "outputs": [
    {
     "name": "stdout",
     "output_type": "stream",
     "text": [
      "<class 'pandas.core.frame.DataFrame'>\n",
      "RangeIndex: 731 entries, 0 to 730\n",
      "Data columns (total 16 columns):\n",
      " #   Column      Non-Null Count  Dtype  \n",
      "---  ------      --------------  -----  \n",
      " 0   instant     731 non-null    int64  \n",
      " 1   dteday      731 non-null    object \n",
      " 2   season      731 non-null    int64  \n",
      " 3   yr          731 non-null    int64  \n",
      " 4   mnth        731 non-null    int64  \n",
      " 5   holiday     731 non-null    int64  \n",
      " 6   weekday     731 non-null    int64  \n",
      " 7   workingday  731 non-null    int64  \n",
      " 8   weathersit  731 non-null    int64  \n",
      " 9   temp        731 non-null    float64\n",
      " 10  atemp       731 non-null    float64\n",
      " 11  hum         731 non-null    float64\n",
      " 12  windspeed   731 non-null    float64\n",
      " 13  casual      731 non-null    int64  \n",
      " 14  registered  731 non-null    int64  \n",
      " 15  cnt         731 non-null    int64  \n",
      "dtypes: float64(4), int64(11), object(1)\n",
      "memory usage: 91.5+ KB\n"
     ]
    }
   ],
   "source": [
    "# Cek info day_df\n",
    "day_df.info()"
   ]
  },
  {
   "cell_type": "code",
   "execution_count": 5,
   "metadata": {
    "id": "ax-3tEjc9Cj1"
   },
   "outputs": [
    {
     "name": "stdout",
     "output_type": "stream",
     "text": [
      "Jumlah missing values di setiap kolom:\n"
     ]
    },
    {
     "data": {
      "text/plain": [
       "instant       0\n",
       "dteday        0\n",
       "season        0\n",
       "yr            0\n",
       "mnth          0\n",
       "holiday       0\n",
       "weekday       0\n",
       "workingday    0\n",
       "weathersit    0\n",
       "temp          0\n",
       "atemp         0\n",
       "hum           0\n",
       "windspeed     0\n",
       "casual        0\n",
       "registered    0\n",
       "cnt           0\n",
       "dtype: int64"
      ]
     },
     "execution_count": 5,
     "metadata": {},
     "output_type": "execute_result"
    }
   ],
   "source": [
    "# Mengecek jumlah missing values (nilai yang hilang) di setiap kolom dalam dataset\n",
    "print(\"Jumlah missing values di setiap kolom:\")\n",
    "day_df.isna().sum()"
   ]
  },
  {
   "cell_type": "code",
   "execution_count": 6,
   "metadata": {
    "id": "ax-3tEjc9Cj1"
   },
   "outputs": [
    {
     "name": "stdout",
     "output_type": "stream",
     "text": [
      "Jumlah duplikasi:  0\n"
     ]
    },
    {
     "data": {
      "text/html": [
       "<div>\n",
       "<style scoped>\n",
       "    .dataframe tbody tr th:only-of-type {\n",
       "        vertical-align: middle;\n",
       "    }\n",
       "\n",
       "    .dataframe tbody tr th {\n",
       "        vertical-align: top;\n",
       "    }\n",
       "\n",
       "    .dataframe thead th {\n",
       "        text-align: right;\n",
       "    }\n",
       "</style>\n",
       "<table border=\"1\" class=\"dataframe\">\n",
       "  <thead>\n",
       "    <tr style=\"text-align: right;\">\n",
       "      <th></th>\n",
       "      <th>instant</th>\n",
       "      <th>season</th>\n",
       "      <th>yr</th>\n",
       "      <th>mnth</th>\n",
       "      <th>holiday</th>\n",
       "      <th>weekday</th>\n",
       "      <th>workingday</th>\n",
       "      <th>weathersit</th>\n",
       "      <th>temp</th>\n",
       "      <th>atemp</th>\n",
       "      <th>hum</th>\n",
       "      <th>windspeed</th>\n",
       "      <th>casual</th>\n",
       "      <th>registered</th>\n",
       "      <th>cnt</th>\n",
       "    </tr>\n",
       "  </thead>\n",
       "  <tbody>\n",
       "    <tr>\n",
       "      <th>count</th>\n",
       "      <td>731.000000</td>\n",
       "      <td>731.000000</td>\n",
       "      <td>731.000000</td>\n",
       "      <td>731.000000</td>\n",
       "      <td>731.000000</td>\n",
       "      <td>731.000000</td>\n",
       "      <td>731.000000</td>\n",
       "      <td>731.000000</td>\n",
       "      <td>731.000000</td>\n",
       "      <td>731.000000</td>\n",
       "      <td>731.000000</td>\n",
       "      <td>731.000000</td>\n",
       "      <td>731.000000</td>\n",
       "      <td>731.000000</td>\n",
       "      <td>731.000000</td>\n",
       "    </tr>\n",
       "    <tr>\n",
       "      <th>mean</th>\n",
       "      <td>366.000000</td>\n",
       "      <td>2.496580</td>\n",
       "      <td>0.500684</td>\n",
       "      <td>6.519836</td>\n",
       "      <td>0.028728</td>\n",
       "      <td>2.997264</td>\n",
       "      <td>0.683995</td>\n",
       "      <td>1.395349</td>\n",
       "      <td>0.495385</td>\n",
       "      <td>0.474354</td>\n",
       "      <td>0.627894</td>\n",
       "      <td>0.190486</td>\n",
       "      <td>848.176471</td>\n",
       "      <td>3656.172367</td>\n",
       "      <td>4504.348837</td>\n",
       "    </tr>\n",
       "    <tr>\n",
       "      <th>std</th>\n",
       "      <td>211.165812</td>\n",
       "      <td>1.110807</td>\n",
       "      <td>0.500342</td>\n",
       "      <td>3.451913</td>\n",
       "      <td>0.167155</td>\n",
       "      <td>2.004787</td>\n",
       "      <td>0.465233</td>\n",
       "      <td>0.544894</td>\n",
       "      <td>0.183051</td>\n",
       "      <td>0.162961</td>\n",
       "      <td>0.142429</td>\n",
       "      <td>0.077498</td>\n",
       "      <td>686.622488</td>\n",
       "      <td>1560.256377</td>\n",
       "      <td>1937.211452</td>\n",
       "    </tr>\n",
       "    <tr>\n",
       "      <th>min</th>\n",
       "      <td>1.000000</td>\n",
       "      <td>1.000000</td>\n",
       "      <td>0.000000</td>\n",
       "      <td>1.000000</td>\n",
       "      <td>0.000000</td>\n",
       "      <td>0.000000</td>\n",
       "      <td>0.000000</td>\n",
       "      <td>1.000000</td>\n",
       "      <td>0.059130</td>\n",
       "      <td>0.079070</td>\n",
       "      <td>0.000000</td>\n",
       "      <td>0.022392</td>\n",
       "      <td>2.000000</td>\n",
       "      <td>20.000000</td>\n",
       "      <td>22.000000</td>\n",
       "    </tr>\n",
       "    <tr>\n",
       "      <th>25%</th>\n",
       "      <td>183.500000</td>\n",
       "      <td>2.000000</td>\n",
       "      <td>0.000000</td>\n",
       "      <td>4.000000</td>\n",
       "      <td>0.000000</td>\n",
       "      <td>1.000000</td>\n",
       "      <td>0.000000</td>\n",
       "      <td>1.000000</td>\n",
       "      <td>0.337083</td>\n",
       "      <td>0.337842</td>\n",
       "      <td>0.520000</td>\n",
       "      <td>0.134950</td>\n",
       "      <td>315.500000</td>\n",
       "      <td>2497.000000</td>\n",
       "      <td>3152.000000</td>\n",
       "    </tr>\n",
       "    <tr>\n",
       "      <th>50%</th>\n",
       "      <td>366.000000</td>\n",
       "      <td>3.000000</td>\n",
       "      <td>1.000000</td>\n",
       "      <td>7.000000</td>\n",
       "      <td>0.000000</td>\n",
       "      <td>3.000000</td>\n",
       "      <td>1.000000</td>\n",
       "      <td>1.000000</td>\n",
       "      <td>0.498333</td>\n",
       "      <td>0.486733</td>\n",
       "      <td>0.626667</td>\n",
       "      <td>0.180975</td>\n",
       "      <td>713.000000</td>\n",
       "      <td>3662.000000</td>\n",
       "      <td>4548.000000</td>\n",
       "    </tr>\n",
       "    <tr>\n",
       "      <th>75%</th>\n",
       "      <td>548.500000</td>\n",
       "      <td>3.000000</td>\n",
       "      <td>1.000000</td>\n",
       "      <td>10.000000</td>\n",
       "      <td>0.000000</td>\n",
       "      <td>5.000000</td>\n",
       "      <td>1.000000</td>\n",
       "      <td>2.000000</td>\n",
       "      <td>0.655417</td>\n",
       "      <td>0.608602</td>\n",
       "      <td>0.730209</td>\n",
       "      <td>0.233214</td>\n",
       "      <td>1096.000000</td>\n",
       "      <td>4776.500000</td>\n",
       "      <td>5956.000000</td>\n",
       "    </tr>\n",
       "    <tr>\n",
       "      <th>max</th>\n",
       "      <td>731.000000</td>\n",
       "      <td>4.000000</td>\n",
       "      <td>1.000000</td>\n",
       "      <td>12.000000</td>\n",
       "      <td>1.000000</td>\n",
       "      <td>6.000000</td>\n",
       "      <td>1.000000</td>\n",
       "      <td>3.000000</td>\n",
       "      <td>0.861667</td>\n",
       "      <td>0.840896</td>\n",
       "      <td>0.972500</td>\n",
       "      <td>0.507463</td>\n",
       "      <td>3410.000000</td>\n",
       "      <td>6946.000000</td>\n",
       "      <td>8714.000000</td>\n",
       "    </tr>\n",
       "  </tbody>\n",
       "</table>\n",
       "</div>"
      ],
      "text/plain": [
       "          instant      season          yr        mnth     holiday     weekday  \\\n",
       "count  731.000000  731.000000  731.000000  731.000000  731.000000  731.000000   \n",
       "mean   366.000000    2.496580    0.500684    6.519836    0.028728    2.997264   \n",
       "std    211.165812    1.110807    0.500342    3.451913    0.167155    2.004787   \n",
       "min      1.000000    1.000000    0.000000    1.000000    0.000000    0.000000   \n",
       "25%    183.500000    2.000000    0.000000    4.000000    0.000000    1.000000   \n",
       "50%    366.000000    3.000000    1.000000    7.000000    0.000000    3.000000   \n",
       "75%    548.500000    3.000000    1.000000   10.000000    0.000000    5.000000   \n",
       "max    731.000000    4.000000    1.000000   12.000000    1.000000    6.000000   \n",
       "\n",
       "       workingday  weathersit        temp       atemp         hum   windspeed  \\\n",
       "count  731.000000  731.000000  731.000000  731.000000  731.000000  731.000000   \n",
       "mean     0.683995    1.395349    0.495385    0.474354    0.627894    0.190486   \n",
       "std      0.465233    0.544894    0.183051    0.162961    0.142429    0.077498   \n",
       "min      0.000000    1.000000    0.059130    0.079070    0.000000    0.022392   \n",
       "25%      0.000000    1.000000    0.337083    0.337842    0.520000    0.134950   \n",
       "50%      1.000000    1.000000    0.498333    0.486733    0.626667    0.180975   \n",
       "75%      1.000000    2.000000    0.655417    0.608602    0.730209    0.233214   \n",
       "max      1.000000    3.000000    0.861667    0.840896    0.972500    0.507463   \n",
       "\n",
       "            casual   registered          cnt  \n",
       "count   731.000000   731.000000   731.000000  \n",
       "mean    848.176471  3656.172367  4504.348837  \n",
       "std     686.622488  1560.256377  1937.211452  \n",
       "min       2.000000    20.000000    22.000000  \n",
       "25%     315.500000  2497.000000  3152.000000  \n",
       "50%     713.000000  3662.000000  4548.000000  \n",
       "75%    1096.000000  4776.500000  5956.000000  \n",
       "max    3410.000000  6946.000000  8714.000000  "
      ]
     },
     "execution_count": 6,
     "metadata": {},
     "output_type": "execute_result"
    }
   ],
   "source": [
    "# Mengecek jumlah data duplikat dalam dataset\n",
    "print(\"Jumlah duplikasi: \", day_df.duplicated().sum())\n",
    "\n",
    "# Menampilkan ringkasan statistik dari dataset untuk memahami distribusi data numerik\n",
    "day_df.describe()"
   ]
  },
  {
   "cell_type": "code",
   "execution_count": 7,
   "metadata": {
    "id": "ax-3tEjc9Cj1"
   },
   "outputs": [
    {
     "name": "stdout",
     "output_type": "stream",
     "text": [
      "<class 'pandas.core.frame.DataFrame'>\n",
      "RangeIndex: 17379 entries, 0 to 17378\n",
      "Data columns (total 17 columns):\n",
      " #   Column      Non-Null Count  Dtype  \n",
      "---  ------      --------------  -----  \n",
      " 0   instant     17379 non-null  int64  \n",
      " 1   dteday      17379 non-null  object \n",
      " 2   season      17379 non-null  int64  \n",
      " 3   yr          17379 non-null  int64  \n",
      " 4   mnth        17379 non-null  int64  \n",
      " 5   hr          17379 non-null  int64  \n",
      " 6   holiday     17379 non-null  int64  \n",
      " 7   weekday     17379 non-null  int64  \n",
      " 8   workingday  17379 non-null  int64  \n",
      " 9   weathersit  17379 non-null  int64  \n",
      " 10  temp        17379 non-null  float64\n",
      " 11  atemp       17379 non-null  float64\n",
      " 12  hum         17379 non-null  float64\n",
      " 13  windspeed   17379 non-null  float64\n",
      " 14  casual      17379 non-null  int64  \n",
      " 15  registered  17379 non-null  int64  \n",
      " 16  cnt         17379 non-null  int64  \n",
      "dtypes: float64(4), int64(12), object(1)\n",
      "memory usage: 2.3+ MB\n"
     ]
    }
   ],
   "source": [
    "# Cek info `hour_df`\n",
    "hour_df.info()"
   ]
  },
  {
   "cell_type": "code",
   "execution_count": 8,
   "metadata": {
    "id": "ax-3tEjc9Cj1"
   },
   "outputs": [
    {
     "name": "stdout",
     "output_type": "stream",
     "text": [
      "Jumlah missing values di setiap kolom:\n"
     ]
    },
    {
     "data": {
      "text/plain": [
       "instant       0\n",
       "dteday        0\n",
       "season        0\n",
       "yr            0\n",
       "mnth          0\n",
       "hr            0\n",
       "holiday       0\n",
       "weekday       0\n",
       "workingday    0\n",
       "weathersit    0\n",
       "temp          0\n",
       "atemp         0\n",
       "hum           0\n",
       "windspeed     0\n",
       "casual        0\n",
       "registered    0\n",
       "cnt           0\n",
       "dtype: int64"
      ]
     },
     "execution_count": 8,
     "metadata": {},
     "output_type": "execute_result"
    }
   ],
   "source": [
    "# Mengecek jumlah missing values (nilai yang hilang) di setiap kolom dalam dataset\n",
    "print(\"Jumlah missing values di setiap kolom:\")\n",
    "hour_df.isna().sum()"
   ]
  },
  {
   "cell_type": "code",
   "execution_count": 9,
   "metadata": {
    "id": "ax-3tEjc9Cj1"
   },
   "outputs": [
    {
     "name": "stdout",
     "output_type": "stream",
     "text": [
      "Jumlah duplikasi:  0\n"
     ]
    },
    {
     "data": {
      "text/html": [
       "<div>\n",
       "<style scoped>\n",
       "    .dataframe tbody tr th:only-of-type {\n",
       "        vertical-align: middle;\n",
       "    }\n",
       "\n",
       "    .dataframe tbody tr th {\n",
       "        vertical-align: top;\n",
       "    }\n",
       "\n",
       "    .dataframe thead th {\n",
       "        text-align: right;\n",
       "    }\n",
       "</style>\n",
       "<table border=\"1\" class=\"dataframe\">\n",
       "  <thead>\n",
       "    <tr style=\"text-align: right;\">\n",
       "      <th></th>\n",
       "      <th>instant</th>\n",
       "      <th>season</th>\n",
       "      <th>yr</th>\n",
       "      <th>mnth</th>\n",
       "      <th>hr</th>\n",
       "      <th>holiday</th>\n",
       "      <th>weekday</th>\n",
       "      <th>workingday</th>\n",
       "      <th>weathersit</th>\n",
       "      <th>temp</th>\n",
       "      <th>atemp</th>\n",
       "      <th>hum</th>\n",
       "      <th>windspeed</th>\n",
       "      <th>casual</th>\n",
       "      <th>registered</th>\n",
       "      <th>cnt</th>\n",
       "    </tr>\n",
       "  </thead>\n",
       "  <tbody>\n",
       "    <tr>\n",
       "      <th>count</th>\n",
       "      <td>17379.0000</td>\n",
       "      <td>17379.000000</td>\n",
       "      <td>17379.000000</td>\n",
       "      <td>17379.000000</td>\n",
       "      <td>17379.000000</td>\n",
       "      <td>17379.000000</td>\n",
       "      <td>17379.000000</td>\n",
       "      <td>17379.000000</td>\n",
       "      <td>17379.000000</td>\n",
       "      <td>17379.000000</td>\n",
       "      <td>17379.000000</td>\n",
       "      <td>17379.000000</td>\n",
       "      <td>17379.000000</td>\n",
       "      <td>17379.000000</td>\n",
       "      <td>17379.000000</td>\n",
       "      <td>17379.000000</td>\n",
       "    </tr>\n",
       "    <tr>\n",
       "      <th>mean</th>\n",
       "      <td>8690.0000</td>\n",
       "      <td>2.501640</td>\n",
       "      <td>0.502561</td>\n",
       "      <td>6.537775</td>\n",
       "      <td>11.546752</td>\n",
       "      <td>0.028770</td>\n",
       "      <td>3.003683</td>\n",
       "      <td>0.682721</td>\n",
       "      <td>1.425283</td>\n",
       "      <td>0.496987</td>\n",
       "      <td>0.475775</td>\n",
       "      <td>0.627229</td>\n",
       "      <td>0.190098</td>\n",
       "      <td>35.676218</td>\n",
       "      <td>153.786869</td>\n",
       "      <td>189.463088</td>\n",
       "    </tr>\n",
       "    <tr>\n",
       "      <th>std</th>\n",
       "      <td>5017.0295</td>\n",
       "      <td>1.106918</td>\n",
       "      <td>0.500008</td>\n",
       "      <td>3.438776</td>\n",
       "      <td>6.914405</td>\n",
       "      <td>0.167165</td>\n",
       "      <td>2.005771</td>\n",
       "      <td>0.465431</td>\n",
       "      <td>0.639357</td>\n",
       "      <td>0.192556</td>\n",
       "      <td>0.171850</td>\n",
       "      <td>0.192930</td>\n",
       "      <td>0.122340</td>\n",
       "      <td>49.305030</td>\n",
       "      <td>151.357286</td>\n",
       "      <td>181.387599</td>\n",
       "    </tr>\n",
       "    <tr>\n",
       "      <th>min</th>\n",
       "      <td>1.0000</td>\n",
       "      <td>1.000000</td>\n",
       "      <td>0.000000</td>\n",
       "      <td>1.000000</td>\n",
       "      <td>0.000000</td>\n",
       "      <td>0.000000</td>\n",
       "      <td>0.000000</td>\n",
       "      <td>0.000000</td>\n",
       "      <td>1.000000</td>\n",
       "      <td>0.020000</td>\n",
       "      <td>0.000000</td>\n",
       "      <td>0.000000</td>\n",
       "      <td>0.000000</td>\n",
       "      <td>0.000000</td>\n",
       "      <td>0.000000</td>\n",
       "      <td>1.000000</td>\n",
       "    </tr>\n",
       "    <tr>\n",
       "      <th>25%</th>\n",
       "      <td>4345.5000</td>\n",
       "      <td>2.000000</td>\n",
       "      <td>0.000000</td>\n",
       "      <td>4.000000</td>\n",
       "      <td>6.000000</td>\n",
       "      <td>0.000000</td>\n",
       "      <td>1.000000</td>\n",
       "      <td>0.000000</td>\n",
       "      <td>1.000000</td>\n",
       "      <td>0.340000</td>\n",
       "      <td>0.333300</td>\n",
       "      <td>0.480000</td>\n",
       "      <td>0.104500</td>\n",
       "      <td>4.000000</td>\n",
       "      <td>34.000000</td>\n",
       "      <td>40.000000</td>\n",
       "    </tr>\n",
       "    <tr>\n",
       "      <th>50%</th>\n",
       "      <td>8690.0000</td>\n",
       "      <td>3.000000</td>\n",
       "      <td>1.000000</td>\n",
       "      <td>7.000000</td>\n",
       "      <td>12.000000</td>\n",
       "      <td>0.000000</td>\n",
       "      <td>3.000000</td>\n",
       "      <td>1.000000</td>\n",
       "      <td>1.000000</td>\n",
       "      <td>0.500000</td>\n",
       "      <td>0.484800</td>\n",
       "      <td>0.630000</td>\n",
       "      <td>0.194000</td>\n",
       "      <td>17.000000</td>\n",
       "      <td>115.000000</td>\n",
       "      <td>142.000000</td>\n",
       "    </tr>\n",
       "    <tr>\n",
       "      <th>75%</th>\n",
       "      <td>13034.5000</td>\n",
       "      <td>3.000000</td>\n",
       "      <td>1.000000</td>\n",
       "      <td>10.000000</td>\n",
       "      <td>18.000000</td>\n",
       "      <td>0.000000</td>\n",
       "      <td>5.000000</td>\n",
       "      <td>1.000000</td>\n",
       "      <td>2.000000</td>\n",
       "      <td>0.660000</td>\n",
       "      <td>0.621200</td>\n",
       "      <td>0.780000</td>\n",
       "      <td>0.253700</td>\n",
       "      <td>48.000000</td>\n",
       "      <td>220.000000</td>\n",
       "      <td>281.000000</td>\n",
       "    </tr>\n",
       "    <tr>\n",
       "      <th>max</th>\n",
       "      <td>17379.0000</td>\n",
       "      <td>4.000000</td>\n",
       "      <td>1.000000</td>\n",
       "      <td>12.000000</td>\n",
       "      <td>23.000000</td>\n",
       "      <td>1.000000</td>\n",
       "      <td>6.000000</td>\n",
       "      <td>1.000000</td>\n",
       "      <td>4.000000</td>\n",
       "      <td>1.000000</td>\n",
       "      <td>1.000000</td>\n",
       "      <td>1.000000</td>\n",
       "      <td>0.850700</td>\n",
       "      <td>367.000000</td>\n",
       "      <td>886.000000</td>\n",
       "      <td>977.000000</td>\n",
       "    </tr>\n",
       "  </tbody>\n",
       "</table>\n",
       "</div>"
      ],
      "text/plain": [
       "          instant        season            yr          mnth            hr  \\\n",
       "count  17379.0000  17379.000000  17379.000000  17379.000000  17379.000000   \n",
       "mean    8690.0000      2.501640      0.502561      6.537775     11.546752   \n",
       "std     5017.0295      1.106918      0.500008      3.438776      6.914405   \n",
       "min        1.0000      1.000000      0.000000      1.000000      0.000000   \n",
       "25%     4345.5000      2.000000      0.000000      4.000000      6.000000   \n",
       "50%     8690.0000      3.000000      1.000000      7.000000     12.000000   \n",
       "75%    13034.5000      3.000000      1.000000     10.000000     18.000000   \n",
       "max    17379.0000      4.000000      1.000000     12.000000     23.000000   \n",
       "\n",
       "            holiday       weekday    workingday    weathersit          temp  \\\n",
       "count  17379.000000  17379.000000  17379.000000  17379.000000  17379.000000   \n",
       "mean       0.028770      3.003683      0.682721      1.425283      0.496987   \n",
       "std        0.167165      2.005771      0.465431      0.639357      0.192556   \n",
       "min        0.000000      0.000000      0.000000      1.000000      0.020000   \n",
       "25%        0.000000      1.000000      0.000000      1.000000      0.340000   \n",
       "50%        0.000000      3.000000      1.000000      1.000000      0.500000   \n",
       "75%        0.000000      5.000000      1.000000      2.000000      0.660000   \n",
       "max        1.000000      6.000000      1.000000      4.000000      1.000000   \n",
       "\n",
       "              atemp           hum     windspeed        casual    registered  \\\n",
       "count  17379.000000  17379.000000  17379.000000  17379.000000  17379.000000   \n",
       "mean       0.475775      0.627229      0.190098     35.676218    153.786869   \n",
       "std        0.171850      0.192930      0.122340     49.305030    151.357286   \n",
       "min        0.000000      0.000000      0.000000      0.000000      0.000000   \n",
       "25%        0.333300      0.480000      0.104500      4.000000     34.000000   \n",
       "50%        0.484800      0.630000      0.194000     17.000000    115.000000   \n",
       "75%        0.621200      0.780000      0.253700     48.000000    220.000000   \n",
       "max        1.000000      1.000000      0.850700    367.000000    886.000000   \n",
       "\n",
       "                cnt  \n",
       "count  17379.000000  \n",
       "mean     189.463088  \n",
       "std      181.387599  \n",
       "min        1.000000  \n",
       "25%       40.000000  \n",
       "50%      142.000000  \n",
       "75%      281.000000  \n",
       "max      977.000000  "
      ]
     },
     "execution_count": 9,
     "metadata": {},
     "output_type": "execute_result"
    }
   ],
   "source": [
    "# Mengecek jumlah data duplikat dalam dataset\n",
    "print(\"Jumlah duplikasi: \", hour_df.duplicated().sum())\n",
    "\n",
    "# Menampilkan ringkasan statistik dari dataset untuk memahami distribusi data numerik\n",
    "hour_df.describe()"
   ]
  },
  {
   "cell_type": "markdown",
   "metadata": {
    "id": "GmQeQ5YF8DC0"
   },
   "source": [
    "**Insight:**\n",
    "- Dataset terdiri dari dua file utama: `day.csv` (data bike sharing harian) dan `hour.csv` (data bike sharing per jam).\n",
    "- Tidak ditemukan missing values dalam dataset.\n",
    "- Tidak ditemukan data duplikat dalam dataset.\n",
    "- Tidak ditemukan missing values, sehingga tidak perlu imputasi.\n",
    "- Kolom tanggal (`dteday`) yang masih berupa string dan perlu dikonversi ke datetime.\n",
    "- Kolom kategori seperti `season` dan `weathersit` masih dalam format numerik dan perlu diberi label deskriptif.\n",
    "  - `season`: 1, 2, 3, 4 (harusnya Spring, Summer, Fall, Winter)\n",
    "  - `weathersit`: 1, 2, 3, 4 (harusnya Clear, Mist, Light Rain, Heavy Rain)\n",
    "- Beberapa nilai di `windspeed` dalam data `hour_df` adalah 0, dimana tidak realistis karena angin hampir selalu memiliki kecepatan tertentu.\n",
    "- Perlu dilakukan pengecekan lebih lanjut terhadap nilai yang tidak konsisten atau outlier dalam dataset sebelum masuk ke tahap Cleaning Data."
   ]
  },
  {
   "cell_type": "markdown",
   "metadata": {
    "id": "EhN5R4hr8DC1",
    "jp-MarkdownHeadingCollapsed": true
   },
   "source": [
    "### Cleaning Data"
   ]
  },
  {
   "cell_type": "code",
   "execution_count": 10,
   "metadata": {
    "id": "jVnYpprE9Evz"
   },
   "outputs": [
    {
     "name": "stdout",
     "output_type": "stream",
     "text": [
      "Kolom 'dteday' dalam hour_df:  0    2011-01-01\n",
      "1    2011-01-01\n",
      "2    2011-01-01\n",
      "3    2011-01-01\n",
      "4    2011-01-01\n",
      "Name: dteday, dtype: object\n",
      "\n",
      "Kolom 'dteday' dalam day_df:  0    2011-01-01\n",
      "1    2011-01-02\n",
      "2    2011-01-03\n",
      "3    2011-01-04\n",
      "4    2011-01-05\n",
      "Name: dteday, dtype: object\n"
     ]
    }
   ],
   "source": [
    "# Cek tipe data `dteday` di hour_df dan day_df\n",
    "print(\"Kolom 'dteday' dalam hour_df: \", hour_df.dteday.head())\n",
    "print(\"\\nKolom 'dteday' dalam day_df: \", day_df.dteday.head())"
   ]
  },
  {
   "cell_type": "code",
   "execution_count": 11,
   "metadata": {
    "id": "jVnYpprE9Evz"
   },
   "outputs": [],
   "source": [
    "# Konversi kolom `dteday` menjadi datetime\n",
    "day_df['dteday'] = pd.to_datetime(day_df['dteday'])\n",
    "hour_df['dteday'] = pd.to_datetime(hour_df['dteday'])"
   ]
  },
  {
   "cell_type": "code",
   "execution_count": 12,
   "metadata": {
    "id": "jVnYpprE9Evz"
   },
   "outputs": [
    {
     "name": "stdout",
     "output_type": "stream",
     "text": [
      "Kolom 'dteday' dalam hour_df:  0   2011-01-01\n",
      "1   2011-01-01\n",
      "2   2011-01-01\n",
      "3   2011-01-01\n",
      "4   2011-01-01\n",
      "Name: dteday, dtype: datetime64[ns]\n",
      "\n",
      "Kolom 'dteday' dalam day_df:  0   2011-01-01\n",
      "1   2011-01-02\n",
      "2   2011-01-03\n",
      "3   2011-01-04\n",
      "4   2011-01-05\n",
      "Name: dteday, dtype: datetime64[ns]\n"
     ]
    }
   ],
   "source": [
    "# Cek tipe data `dteday` di hour_df dan day_df setelah dikonversi\n",
    "print(\"Kolom 'dteday' dalam hour_df: \", hour_df.dteday.head())\n",
    "print(\"\\nKolom 'dteday' dalam day_df: \", day_df.dteday.head())"
   ]
  },
  {
   "cell_type": "code",
   "execution_count": 13,
   "metadata": {
    "id": "jVnYpprE9Evz"
   },
   "outputs": [
    {
     "name": "stdout",
     "output_type": "stream",
     "text": [
      "Kategori unik dalam season: [1 2 3 4]\n",
      "Kategori unik dalam weathersit: [1 2 3 4]\n"
     ]
    }
   ],
   "source": [
    "# Mengecek nilai unik dalam kolom 'season' di dataset hour_df\n",
    "# Ini berguna untuk mengetahui kategori musim yang ada dalam dataset\n",
    "print(\"Kategori unik dalam season:\", hour_df.season.unique())\n",
    "\n",
    "# Mengecek nilai unik dalam kolom 'weathersit' di dataset hour_df\n",
    "# Ini digunakan untuk memastikan semua kategori cuaca yang ada\n",
    "print(\"Kategori unik dalam weathersit:\", hour_df.weathersit.unique())"
   ]
  },
  {
   "cell_type": "code",
   "execution_count": 14,
   "metadata": {
    "id": "jVnYpprE9Evz"
   },
   "outputs": [],
   "source": [
    "# Membuat mapping untuk kolom 'season' dari angka menjadi label yang lebih mudah dipahami\n",
    "season_mapping = {1: 'Spring', 2: 'Summer', 3: 'Fall', 4: 'Winter'}\n",
    "\n",
    "# Membuat mapping untuk kolom 'weathersit' dari angka menjadi label deskriptif\n",
    "weathersit_mapping = {1: 'Clear', 2: 'Mist', 3: 'Light Rain', 4: 'Heavy Rain'}\n",
    "\n",
    "# Mengubah nilai numerik di kolom 'season' dan 'weathersit' pada dataset day_df menjadi label deskriptif\n",
    "day_df['season'] = day_df['season'].map(season_mapping)\n",
    "day_df['weathersit'] = day_df['weathersit'].map(weathersit_mapping)\n",
    "\n",
    "# Mengubah nilai numerik di kolom 'season' dan 'weathersit' pada dataset hour_df menjadi label deskriptif\n",
    "hour_df['season'] = hour_df['season'].map(season_mapping)\n",
    "hour_df['weathersit'] = hour_df['weathersit'].map(weathersit_mapping)"
   ]
  },
  {
   "cell_type": "code",
   "execution_count": 15,
   "metadata": {
    "id": "jVnYpprE9Evz"
   },
   "outputs": [
    {
     "name": "stdout",
     "output_type": "stream",
     "text": [
      "Distribusi kategori dalam kolom 'season':\n",
      "season\n",
      "Fall      188\n",
      "Summer    184\n",
      "Spring    181\n",
      "Winter    178\n",
      "Name: count, dtype: int64\n",
      "\n",
      "Distribusi kategori dalam kolom 'weathersit':\n",
      "weathersit\n",
      "Clear         463\n",
      "Mist          247\n",
      "Light Rain     21\n",
      "Name: count, dtype: int64\n",
      "\n",
      "Nilai dalam season setah diubah: ['Spring' 'Summer' 'Fall' 'Winter']\n",
      "Nilai dalam weathersit setah diubah: ['Clear' 'Mist' 'Light Rain' 'Heavy Rain']\n"
     ]
    }
   ],
   "source": [
    "# Memeriksa apakah proses konversi nilai telah berhasil atau belum\n",
    "print(\"Distribusi kategori dalam kolom 'season':\")\n",
    "print(day_df.season.value_counts())\n",
    "\n",
    "print(\"\\nDistribusi kategori dalam kolom 'weathersit':\")\n",
    "print(day_df.weathersit.value_counts())\n",
    "\n",
    "print(\"\\nNilai dalam season setah diubah:\", hour_df.season.unique())\n",
    "print(\"Nilai dalam weathersit setah diubah:\", hour_df.weathersit.unique())"
   ]
  },
  {
   "cell_type": "code",
   "execution_count": 16,
   "metadata": {
    "id": "jVnYpprE9Evz"
   },
   "outputs": [
    {
     "name": "stdout",
     "output_type": "stream",
     "text": [
      "Distribusi nilai dalam kolom 'windspeed':\n",
      "windspeed\n",
      "0.0000    2180\n",
      "0.1343    1738\n",
      "0.1642    1695\n",
      "0.1940    1657\n",
      "0.1045    1617\n",
      "0.2239    1513\n",
      "0.0896    1425\n",
      "0.2537    1295\n",
      "0.2836    1048\n",
      "0.2985     808\n",
      "0.3284     602\n",
      "0.3582     460\n",
      "0.3881     381\n",
      "0.4179     296\n",
      "0.4478     176\n",
      "0.4627     146\n",
      "0.4925     112\n",
      "0.5224      84\n",
      "0.5821      44\n",
      "0.5522      39\n",
      "0.6119      23\n",
      "0.6418      14\n",
      "0.6567      11\n",
      "0.6866       5\n",
      "0.7463       2\n",
      "0.8060       2\n",
      "0.7164       2\n",
      "0.8507       2\n",
      "0.7761       1\n",
      "0.8358       1\n",
      "Name: count, dtype: int64\n"
     ]
    }
   ],
   "source": [
    "# Menghitung jumlah kemunculan setiap nilai dalam kolom 'windspeed'\n",
    "print(\"Distribusi nilai dalam kolom 'windspeed':\")\n",
    "print(hour_df.windspeed.value_counts())"
   ]
  },
  {
   "cell_type": "code",
   "execution_count": 17,
   "metadata": {
    "id": "jVnYpprE9Evz"
   },
   "outputs": [],
   "source": [
    "# Mengganti semua nilai 0 dalam kolom 'windspeed' dengan nilai median dari 'windspeed'\n",
    "# Ini dilakukan karena kecepatan angin 0 tidak realistis dalam kondisi nyata\n",
    "hour_df[\"windspeed\"] = hour_df[\"windspeed\"].replace(0, hour_df[\"windspeed\"].median())"
   ]
  },
  {
   "cell_type": "code",
   "execution_count": 18,
   "metadata": {
    "id": "jVnYpprE9Evz"
   },
   "outputs": [
    {
     "name": "stdout",
     "output_type": "stream",
     "text": [
      "Jumlah nilai 0 setelah penggantian: 0\n"
     ]
    }
   ],
   "source": [
    "# Memeriksa apakah masih ada nilai 0 setelah penggantian\n",
    "# Jika hasilnya 0, berarti semua nilai 0 telah berhasil diganti dengan median\n",
    "print(\"Jumlah nilai 0 setelah penggantian:\", (hour_df.windspeed == 0).sum())"
   ]
  },
  {
   "cell_type": "markdown",
   "metadata": {
    "id": "Q_5ejIqckiSP"
   },
   "source": [
    "**Insight:**\n",
    "- Kolom `dteday` yang sebelumnya berupa string telah berhasil dikonversi ke format datetime.\n",
    "- Kolom kategori seperti `season` dan `weathersit` yang sebelumnya berupa angka telah diubah menjadi label.\n",
    "  - `season`: Telah dikonversi dari nilai numerik (1, 2, 3, 4) menjadi Spring, Summer, Fall, Winter.\n",
    "  - `weathersit`: Telah dikonversi dari nilai numerik (1, 2, 3, 4) menjadi Clear, Mist, Light Rain, Heavy Rain.\n",
    "- Beberapa nilai `0` dalam kolom `windspeed` pada `hour_df` telah diganti dengan nilai median untuk menghindari ketidaksesuaian dalam analisis."
   ]
  },
  {
   "cell_type": "markdown",
   "metadata": {
    "id": "gp-Y6wU38DC1",
    "jp-MarkdownHeadingCollapsed": true
   },
   "source": [
    "## Exploratory Data Analysis (EDA)"
   ]
  },
  {
   "cell_type": "markdown",
   "metadata": {
    "id": "MW7WF2kr8DC1"
   },
   "source": [
    "### Explore ..."
   ]
  },
  {
   "cell_type": "markdown",
   "metadata": {
    "id": "MW7WF2kr8DC1",
    "jp-MarkdownHeadingCollapsed": true
   },
   "source": [
    "#### EDA untuk pertanyaan bisinis 1"
   ]
  },
  {
   "cell_type": "code",
   "execution_count": 19,
   "metadata": {
    "id": "e9CQCZjk8DC2"
   },
   "outputs": [
    {
     "name": "stdout",
     "output_type": "stream",
     "text": [
      "\n",
      "Ringkasan statistik dataset hour_df:\n",
      "           instant                         dteday season            yr  \\\n",
      "count   17379.0000                          17379  17379  17379.000000   \n",
      "unique         NaN                            NaN      4           NaN   \n",
      "top            NaN                            NaN   Fall           NaN   \n",
      "freq           NaN                            NaN   4496           NaN   \n",
      "mean     8690.0000  2012-01-02 04:08:34.552045568    NaN      0.502561   \n",
      "min         1.0000            2011-01-01 00:00:00    NaN      0.000000   \n",
      "25%      4345.5000            2011-07-04 00:00:00    NaN      0.000000   \n",
      "50%      8690.0000            2012-01-02 00:00:00    NaN      1.000000   \n",
      "75%     13034.5000            2012-07-02 00:00:00    NaN      1.000000   \n",
      "max     17379.0000            2012-12-31 00:00:00    NaN      1.000000   \n",
      "std      5017.0295                            NaN    NaN      0.500008   \n",
      "\n",
      "                mnth            hr       holiday       weekday    workingday  \\\n",
      "count   17379.000000  17379.000000  17379.000000  17379.000000  17379.000000   \n",
      "unique           NaN           NaN           NaN           NaN           NaN   \n",
      "top              NaN           NaN           NaN           NaN           NaN   \n",
      "freq             NaN           NaN           NaN           NaN           NaN   \n",
      "mean        6.537775     11.546752      0.028770      3.003683      0.682721   \n",
      "min         1.000000      0.000000      0.000000      0.000000      0.000000   \n",
      "25%         4.000000      6.000000      0.000000      1.000000      0.000000   \n",
      "50%         7.000000     12.000000      0.000000      3.000000      1.000000   \n",
      "75%        10.000000     18.000000      0.000000      5.000000      1.000000   \n",
      "max        12.000000     23.000000      1.000000      6.000000      1.000000   \n",
      "std         3.438776      6.914405      0.167165      2.005771      0.465431   \n",
      "\n",
      "       weathersit          temp         atemp           hum     windspeed  \\\n",
      "count       17379  17379.000000  17379.000000  17379.000000  17379.000000   \n",
      "unique          4           NaN           NaN           NaN           NaN   \n",
      "top         Clear           NaN           NaN           NaN           NaN   \n",
      "freq        11413           NaN           NaN           NaN           NaN   \n",
      "mean          NaN      0.496987      0.475775      0.627229      0.214433   \n",
      "min           NaN      0.020000      0.000000      0.000000      0.089600   \n",
      "25%           NaN      0.340000      0.333300      0.480000      0.134300   \n",
      "50%           NaN      0.500000      0.484800      0.630000      0.194000   \n",
      "75%           NaN      0.660000      0.621200      0.780000      0.253700   \n",
      "max           NaN      1.000000      1.000000      1.000000      0.850700   \n",
      "std           NaN      0.192556      0.171850      0.192930      0.099215   \n",
      "\n",
      "              casual    registered           cnt  \n",
      "count   17379.000000  17379.000000  17379.000000  \n",
      "unique           NaN           NaN           NaN  \n",
      "top              NaN           NaN           NaN  \n",
      "freq             NaN           NaN           NaN  \n",
      "mean       35.676218    153.786869    189.463088  \n",
      "min         0.000000      0.000000      1.000000  \n",
      "25%         4.000000     34.000000     40.000000  \n",
      "50%        17.000000    115.000000    142.000000  \n",
      "75%        48.000000    220.000000    281.000000  \n",
      "max       367.000000    886.000000    977.000000  \n",
      "std        49.305030    151.357286    181.387599  \n"
     ]
    }
   ],
   "source": [
    "# Melihat statistik data\n",
    "print(\"\\nRingkasan statistik dataset hour_df:\")\n",
    "print(hour_df.describe(include='all'))"
   ]
  },
  {
   "cell_type": "code",
   "execution_count": 20,
   "metadata": {
    "id": "e9CQCZjk8DC2"
   },
   "outputs": [
    {
     "name": "stdout",
     "output_type": "stream",
     "text": [
      "\n",
      "Rata-rata jumlah peminjaman sepeda berdasarkan jam dalam sehari:\n",
      "hr\n",
      "0      53.898072\n",
      "1      33.375691\n",
      "2      22.869930\n",
      "3      11.727403\n",
      "4       6.352941\n",
      "5      19.889819\n",
      "6      76.044138\n",
      "7     212.064649\n",
      "8     359.011004\n",
      "9     219.309491\n",
      "10    173.668501\n",
      "11    208.143054\n",
      "12    253.315934\n",
      "13    253.661180\n",
      "14    240.949246\n",
      "15    251.233196\n",
      "16    311.983562\n",
      "17    461.452055\n",
      "18    425.510989\n",
      "19    311.523352\n",
      "20    226.030220\n",
      "21    172.314560\n",
      "22    131.335165\n",
      "23     87.831044\n",
      "Name: cnt, dtype: float64\n"
     ]
    }
   ],
   "source": [
    "# Menghitung rata-rata peminjaman per jam\n",
    "hourly_rentals = hour_df.groupby(\"hr\")[\"cnt\"].mean()\n",
    "print(\"\\nRata-rata jumlah peminjaman sepeda berdasarkan jam dalam sehari:\")\n",
    "print(hourly_rentals)"
   ]
  },
  {
   "cell_type": "code",
   "execution_count": 21,
   "metadata": {
    "id": "e9CQCZjk8DC2"
   },
   "outputs": [
    {
     "name": "stdout",
     "output_type": "stream",
     "text": [
      "\n",
      "Rata-rata jumlah peminjaman sepeda berdasarkan jam pada hari kerja:\n",
      "hr\n",
      "0      36.786290\n",
      "1      16.552632\n",
      "2       8.683778\n",
      "3       4.942553\n",
      "4       5.429787\n",
      "5      24.913131\n",
      "6     102.500000\n",
      "7     290.612903\n",
      "8     477.006048\n",
      "9     241.518145\n",
      "10    135.366935\n",
      "11    158.229839\n",
      "12    200.820926\n",
      "13    198.429719\n",
      "14    183.572289\n",
      "15    201.331325\n",
      "16    293.122244\n",
      "17    525.290581\n",
      "18    492.226908\n",
      "19    348.401606\n",
      "20    249.718876\n",
      "21    186.287149\n",
      "22    138.389558\n",
      "23     88.708835\n",
      "Name: cnt, dtype: float64\n",
      "\n",
      "Rata-rata jumlah peminjaman sepeda berdasarkan jam pada akhir pekan:\n",
      "hr\n",
      "0      90.800000\n",
      "1      69.508696\n",
      "2      53.171053\n",
      "3      25.775330\n",
      "4       8.264317\n",
      "5       8.689189\n",
      "6      18.742358\n",
      "7      43.406926\n",
      "8     105.653680\n",
      "9     171.623377\n",
      "10    255.909091\n",
      "11    315.316017\n",
      "12    366.259740\n",
      "13    372.731602\n",
      "14    364.645022\n",
      "15    358.813853\n",
      "16    352.727273\n",
      "17    323.549784\n",
      "18    281.056522\n",
      "19    231.673913\n",
      "20    174.739130\n",
      "21    142.060870\n",
      "22    116.060870\n",
      "23     85.930435\n",
      "Name: cnt, dtype: float64\n"
     ]
    }
   ],
   "source": [
    "# Menghitung rata-rata peminjaman per jam selama hari kerja\n",
    "weekday_rentals = hour_df[hour_df[\"workingday\"] == 1].groupby(\"hr\")[\"cnt\"].mean()\n",
    "print(\"\\nRata-rata jumlah peminjaman sepeda berdasarkan jam pada hari kerja:\")\n",
    "print(weekday_rentals)\n",
    "\n",
    "# Menghitung rata-rata peminjaman per jam selama akhir pekan\n",
    "weekend_rentals = hour_df[hour_df[\"workingday\"] == 0].groupby(\"hr\")[\"cnt\"].mean()\n",
    "print(\"\\nRata-rata jumlah peminjaman sepeda berdasarkan jam pada akhir pekan:\")\n",
    "print(weekend_rentals)"
   ]
  },
  {
   "cell_type": "code",
   "execution_count": 22,
   "metadata": {
    "id": "e9CQCZjk8DC2"
   },
   "outputs": [
    {
     "name": "stdout",
     "output_type": "stream",
     "text": [
      "Hari Kerja (Working Day)\n",
      "- Jam dengan jumlah peminjaman tertinggi: 17:00 dengan 525 peminjaman\n",
      "- Jam dengan jumlah peminjaman terendah: 3:00 dengan 5 peminjaman\n",
      "- Jam dengan median peminjaman tertinggi: 17:00 dengan 185 peminjaman\n"
     ]
    }
   ],
   "source": [
    "# Menentukan jam dengan jumlah peminjaman tertinggi, terendah, dan median tertinggi pada hari kerja\n",
    "max_hour_weekday = weekday_rentals.idxmax()\n",
    "max_rentals_weekday = weekday_rentals.max()\n",
    "\n",
    "min_hour_weekday = weekday_rentals.idxmin()\n",
    "min_rentals_weekday = weekday_rentals.min()\n",
    "\n",
    "median_hour_weekday = weekday_rentals.idxmax()\n",
    "median_rentals_weekday = weekday_rentals.median()\n",
    "\n",
    "print(\"Hari Kerja (Working Day)\")\n",
    "print(f\"- Jam dengan jumlah peminjaman tertinggi: {max_hour_weekday}:00 dengan {max_rentals_weekday:.0f} peminjaman\")\n",
    "print(f\"- Jam dengan jumlah peminjaman terendah: {min_hour_weekday}:00 dengan {min_rentals_weekday:.0f} peminjaman\")\n",
    "print(f\"- Jam dengan median peminjaman tertinggi: {median_hour_weekday}:00 dengan {median_rentals_weekday:.0f} peminjaman\")"
   ]
  },
  {
   "cell_type": "code",
   "execution_count": 23,
   "metadata": {
    "id": "e9CQCZjk8DC2"
   },
   "outputs": [
    {
     "name": "stdout",
     "output_type": "stream",
     "text": [
      "Hari Libur (Weekend)\n",
      "- Jam dengan jumlah peminjaman tertinggi: 13:00 dengan 373 peminjaman\n",
      "- Jam dengan jumlah peminjaman terendah: 4:00 dengan 8 peminjaman\n",
      "- Jam dengan median peminjaman tertinggi: 13:00 dengan 157 peminjaman\n"
     ]
    }
   ],
   "source": [
    "# Menentukan jam dengan jumlah peminjaman tertinggi, terendah, dan median tertinggi pada akhir pekan\n",
    "max_hour_weekend = weekend_rentals.idxmax()\n",
    "max_rentals_weekend = weekend_rentals.max()\n",
    "\n",
    "min_hour_weekend = weekend_rentals.idxmin()\n",
    "min_rentals_weekend = weekend_rentals.min()\n",
    "\n",
    "median_hour_weekend = weekend_rentals.idxmax()\n",
    "median_rentals_weekend = weekend_rentals.median()\n",
    "\n",
    "print(\"Hari Libur (Weekend)\")\n",
    "print(f\"- Jam dengan jumlah peminjaman tertinggi: {max_hour_weekend}:00 dengan {max_rentals_weekend:.0f} peminjaman\")\n",
    "print(f\"- Jam dengan jumlah peminjaman terendah: {min_hour_weekend}:00 dengan {min_rentals_weekend:.0f} peminjaman\")\n",
    "print(f\"- Jam dengan median peminjaman tertinggi: {median_hour_weekend}:00 dengan {median_rentals_weekend:.0f} peminjaman\")"
   ]
  },
  {
   "cell_type": "markdown",
   "metadata": {
    "id": "th_Lzl2Fkj9O"
   },
   "source": [
    "**Insight:**\n",
    "- Pada hari kerja:\n",
    "  - Puncak peminjaman terjadi pada jam 17:00 dengan 525 peminjaman, menunjukkan bahwa sepeda banyak digunakan untuk perjalanan pulang kerja.\n",
    "  - Jumlah peminjaman terendah terjadi pada jam 03:00 dengan hanya 5 peminjaman, menunjukkan hampir tidak ada aktivitas sepeda di jam dini hari.\n",
    "  - Median peminjaman tertinggi terjadi pada jam 17:00 dengan 185 peminjaman, mengonfirmasi bahwa penggunaan sepeda pada jam ini cukup stabil setiap harinya.\n",
    "  - Pola peminjaman di hari kerja menunjukkan dua lonjakan utama:\n",
    "    - Pagi hari sekitar jam 08:00 dengan jumlah peminjaman yang cukup tinggi, menunjukkan banyak pengguna menggunakan sepeda untuk pergi ke kantor atau sekolah.\n",
    "    - Sore hari sekitar jam 17:00 - 18:00, menunjukkan lonjakan besar saat orang-orang pulang kerja atau sekolah.\n",
    "  - Setelah jam 19:00, peminjaman sepeda mulai turun secara signifikan hingga dini hari.\n",
    "- Pada akhir pekan:\n",
    "  - Puncak peminjaman terjadi pada jam 13:00 dengan 373 peminjaman, menunjukkan bahwa sepeda lebih sering digunakan untuk aktivitas rekreasi atau santai di siang hari.\n",
    "  - Jumlah peminjaman terendah terjadi pada jam 04:00 dengan hanya 8 peminjaman, yang masih lebih tinggi dibandingkan pada hari kerja.\n",
    "  - Median peminjaman tertinggi terjadi pada jam 13:00 dengan 157 peminjaman, menunjukkan bahwa peminjaman lebih merata di siang hari dibandingkan lonjakan tajam seperti di hari kerja.\n",
    "  - Tidak ada lonjakan signifikan di pagi atau sore hari, yang mengindikasikan bahwa orang menggunakan sepeda lebih fleksibel pada akhir pekan.\n",
    "  - Peminjaman sepeda mulai meningkat sejak pagi hari dan tetap stabil hingga sore hari sebelum menurun menjelang malam.\n",
    "- Statistik tambahan:\n",
    "  - Rata-rata peminjaman sepeda secara keseluruhan menunjukkan lonjakan besar di jam 08:00 dan 17:00, sejalan dengan tren commuting.\n",
    "  - Jam dengan rata-rata peminjaman terendah adalah antara jam 02:00 hingga 05:00, menunjukkan bahwa sepeda hampir tidak digunakan di jam tersebut."
   ]
  },
  {
   "cell_type": "markdown",
   "metadata": {
    "id": "MW7WF2kr8DC1",
    "jp-MarkdownHeadingCollapsed": true
   },
   "source": [
    "#### EDA untuk pertanyaan bisinis 2"
   ]
  },
  {
   "cell_type": "code",
   "execution_count": 24,
   "metadata": {
    "id": "e9CQCZjk8DC2"
   },
   "outputs": [
    {
     "name": "stdout",
     "output_type": "stream",
     "text": [
      "\n",
      "Jumlah Peminjaman Sepeda Berdasarkan Musim:\n",
      "\n",
      "   season      sum         mean  median\n",
      "0    Fall  1061129  5644.303191  5353.5\n",
      "1  Spring   471348  2604.132597  2209.0\n",
      "2  Summer   918589  4992.331522  4941.5\n",
      "3  Winter   841613  4728.162921  4634.5\n"
     ]
    }
   ],
   "source": [
    "# Menghitung total, rata-rata, dan median peminjaman sepeda berdasarkan musim\n",
    "seasonal_rentals = day_df.groupby(\"season\")[\"cnt\"].agg([\"sum\", \"mean\", \"median\"]).reset_index()\n",
    "\n",
    "# Menampilkan hasil\n",
    "print(\"\\nJumlah Peminjaman Sepeda Berdasarkan Musim:\\n\")\n",
    "print(seasonal_rentals)"
   ]
  },
  {
   "cell_type": "code",
   "execution_count": 25,
   "metadata": {
    "id": "e9CQCZjk8DC2"
   },
   "outputs": [
    {
     "name": "stdout",
     "output_type": "stream",
     "text": [
      "\n",
      "Distribusi Peminjaman Sepeda Berdasarkan Musim:\n",
      "\n",
      "        count         mean          std     min     25%     50%      75%  \\\n",
      "season                                                                     \n",
      "Fall    188.0  5644.303191  1459.800381  1115.0  4586.5  5353.5  6929.25   \n",
      "Spring  181.0  2604.132597  1399.942119   431.0  1538.0  2209.0  3456.00   \n",
      "Summer  184.0  4992.331522  1695.977235   795.0  4003.0  4941.5  6377.00   \n",
      "Winter  178.0  4728.162921  1699.615261    22.0  3615.5  4634.5  5624.50   \n",
      "\n",
      "           max  \n",
      "season          \n",
      "Fall    8714.0  \n",
      "Spring  7836.0  \n",
      "Summer  8362.0  \n",
      "Winter  8555.0  \n"
     ]
    }
   ],
   "source": [
    "# Melihat distribusi peminjaman sepeda per hari dalam setiap musim\n",
    "seasonal_distribution = day_df.groupby(\"season\")[\"cnt\"].describe()\n",
    "\n",
    "# Menampilkan hasil\n",
    "print(\"\\nDistribusi Peminjaman Sepeda Berdasarkan Musim:\\n\")\n",
    "print(seasonal_distribution)"
   ]
  },
  {
   "cell_type": "markdown",
   "metadata": {
    "id": "th_Lzl2Fkj9O"
   },
   "source": [
    "**Insight:**\n",
    "- Musim dengan jumlah peminjaman tertinggi:\n",
    "  - Fall (Musim Gugur) memiliki jumlah peminjaman tertinggi dengan total 1.061.129 peminjaman dan rata-rata 5.644 peminjaman per hari.\n",
    "  - Musim gugur juga memiliki median peminjaman 5.353 dan distribusi peminjaman yang lebih stabil dibandingkan musim lainnya.\n",
    "- Musim dengan jumlah peminjaman terendah:\n",
    "  - Spring (Musim Semi) memiliki jumlah peminjaman terendah dengan total 471.348 peminjaman dan rata-rata 2.604 peminjaman per hari.\n",
    "  - Median peminjaman hanya 2.209, yang jauh lebih rendah dibanding musim lainnya.\n",
    "  - Distribusi peminjaman juga menunjukkan bahwa 25% data memiliki peminjaman di bawah 1.538, menunjukkan penggunaan yang lebih rendah.\n",
    "- Musim panas (Summer) dan musim dingin (Winter) memiliki pola peminjaman yang tinggi, tetapi masih di bawah musim gugur:\n",
    "  - Summer (Musim Panas) memiliki total peminjaman 918.589, rata-rata 4.992 per hari, dengan peminjaman tertinggi mencapai 8.362.\n",
    "  - Winter (Musim Dingin) memiliki total peminjaman 841.613, rata-rata 4.728 per hari, dengan peminjaman tertinggi mencapai 8.555.\n",
    "  - Meskipun suhu lebih dingin di musim dingin, jumlah peminjaman tetap tinggi, mungkin karena orang masih menggunakan sepeda sebagai transportasi utama.\n"
   ]
  },
  {
   "cell_type": "markdown",
   "metadata": {
    "id": "MW7WF2kr8DC1"
   },
   "source": [
    "#### EDA untuk pertanyaan bisinis 3"
   ]
  },
  {
   "cell_type": "code",
   "execution_count": 26,
   "metadata": {
    "id": "e9CQCZjk8DC2"
   },
   "outputs": [
    {
     "name": "stdout",
     "output_type": "stream",
     "text": [
      "\n",
      "Matriks Korelasi antara variabel:\n",
      "\n",
      "cnt           1.000000\n",
      "registered    0.945517\n",
      "casual        0.672804\n",
      "atemp         0.631066\n",
      "instant       0.628830\n",
      "temp          0.627494\n",
      "yr            0.566710\n",
      "mnth          0.279977\n",
      "weekday       0.067443\n",
      "workingday    0.061156\n",
      "season       -0.028332\n",
      "holiday      -0.068348\n",
      "hum          -0.100659\n",
      "weathersit   -0.216577\n",
      "windspeed    -0.234545\n",
      "Name: cnt, dtype: float64\n"
     ]
    }
   ],
   "source": [
    "# Konversi kolom kategori menjadi numerik jika diperlukan\n",
    "day_df[\"season\"] = day_df[\"season\"].astype(\"category\").cat.codes\n",
    "day_df[\"weathersit\"] = day_df[\"weathersit\"].astype(\"category\").cat.codes\n",
    "\n",
    "# Menghitung korelasi hanya untuk kolom numerik\n",
    "correlation_matrix = day_df.corr(numeric_only=True)\n",
    "\n",
    "# Menampilkan korelasi antara jumlah peminjaman sepeda dan variabel lainnya\n",
    "print(\"\\nMatriks Korelasi antara variabel:\\n\")\n",
    "print(correlation_matrix[\"cnt\"].sort_values(ascending=False))"
   ]
  },
  {
   "cell_type": "code",
   "execution_count": 27,
   "metadata": {
    "id": "e9CQCZjk8DC2"
   },
   "outputs": [
    {
     "name": "stdout",
     "output_type": "stream",
     "text": [
      "                            OLS Regression Results                            \n",
      "==============================================================================\n",
      "Dep. Variable:                    cnt   R-squared:                       0.526\n",
      "Model:                            OLS   Adj. R-squared:                  0.522\n",
      "Method:                 Least Squares   F-statistic:                     134.0\n",
      "Date:                Fri, 07 Mar 2025   Prob (F-statistic):          6.93e-114\n",
      "Time:                        01:21:11   Log-Likelihood:                -6296.7\n",
      "No. Observations:                 731   AIC:                         1.261e+04\n",
      "Df Residuals:                     724   BIC:                         1.264e+04\n",
      "Df Model:                           6                                         \n",
      "Covariance Type:            nonrobust                                         \n",
      "==============================================================================\n",
      "                 coef    std err          t      P>|t|      [0.025      0.975]\n",
      "------------------------------------------------------------------------------\n",
      "const       2997.5985    356.425      8.410      0.000    2297.849    3697.348\n",
      "temp        7167.8012   2210.303      3.243      0.001    2828.433    1.15e+04\n",
      "atemp        672.3942   2469.004      0.272      0.785   -4174.868    5519.656\n",
      "hum        -3481.6315    446.181     -7.803      0.000   -4357.594   -2605.669\n",
      "windspeed  -4450.7009    683.032     -6.516      0.000   -5791.660   -3109.742\n",
      "season       478.9697     49.497      9.677      0.000     381.794     576.145\n",
      "weathersit   -54.9859     64.752     -0.849      0.396    -182.111      72.139\n",
      "==============================================================================\n",
      "Omnibus:                        3.041   Durbin-Watson:                   0.463\n",
      "Prob(Omnibus):                  0.219   Jarque-Bera (JB):                2.628\n",
      "Skew:                           0.053   Prob(JB):                        0.269\n",
      "Kurtosis:                       2.726   Cond. No.                         155.\n",
      "==============================================================================\n",
      "\n",
      "Notes:\n",
      "[1] Standard Errors assume that the covariance matrix of the errors is correctly specified.\n"
     ]
    }
   ],
   "source": [
    "# Memilih variabel independen yang relevan\n",
    "X = day_df[['temp', 'atemp', 'hum', 'windspeed', 'season', 'weathersit']]\n",
    "X = sm.add_constant(X)  # Menambahkan konstanta untuk regresi\n",
    "\n",
    "# Variabel target\n",
    "y = day_df['cnt']\n",
    "\n",
    "# Membuat model regresi\n",
    "model = sm.OLS(y, X).fit()\n",
    "\n",
    "# Menampilkan hasil regresi\n",
    "print(model.summary())"
   ]
  },
  {
   "cell_type": "markdown",
   "metadata": {
    "id": "th_Lzl2Fkj9O"
   },
   "source": [
    "**Insight:**\n",
    "- Faktor yang paling berpengaruh positif terhadap jumlah peminjaman sepeda:\n",
    "  - Suhu (temp) memiliki korelasi 0.627 dengan jumlah peminjaman sepeda, serta koefisien regresi 7167.80 (p-value 0.001).  \n",
    "    Ini menunjukkan bahwa semakin tinggi suhu, semakin banyak peminjaman sepeda.\n",
    "  - Musim (season) memiliki koefisien regresi 478.97 (p-value 0.000), menunjukkan bahwa jumlah peminjaman berbeda tergantung musim.\n",
    "- Faktor yang paling berpengaruh negatif terhadap jumlah peminjaman sepeda:\n",
    "  - Kelembaban (hum) memiliki korelasi -0.100 dan koefisien regresi -3481.63 (p-value 0.000), menunjukkan bahwa kelembaban tinggi menurunkan jumlah peminjaman sepeda.\n",
    "  - Kecepatan angin (windspeed) memiliki korelasi -0.234 dan koefisien regresi -4450.70 (p-value 0.000), menunjukkan bahwa semakin tinggi kecepatan angin, semakin sedikit peminjaman.\n",
    "- Faktor yang tidak memiliki pengaruh signifikan terhadap jumlah peminjaman sepeda:\n",
    "  - Suhu yang dirasakan (atemp) memiliki p-value 0.785, yang berarti tidak berpengaruh signifikan terhadap jumlah peminjaman sepeda.\n",
    "  - Kondisi cuaca (weathersit) memiliki p-value 0.396, yang berarti tidak signifikan secara statistik dalam menentukan jumlah peminjaman."
   ]
  },
  {
   "cell_type": "markdown",
   "metadata": {
    "id": "zsyZjqak8DC2",
    "jp-MarkdownHeadingCollapsed": true
   },
   "source": [
    "## Visualization & Explanatory Analysis"
   ]
  },
  {
   "cell_type": "markdown",
   "metadata": {
    "id": "HZxOiQ6n8DC2"
   },
   "source": [
    "### Pertanyaan 1: Kapan waktu paling sibuk dalam sehari untuk penggunaan sepeda, dan bagaimana tren ini berbeda antara hari kerja dan akhir pekan?"
   ]
  },
  {
   "cell_type": "code",
   "execution_count": 28,
   "metadata": {
    "id": "1swJUdAD8DC2"
   },
   "outputs": [
    {
     "data": {
      "image/png": "[encoded data removed]",
      "text/plain": [
       "<Figure size 1000x500 with 1 Axes>"
      ]
     },
     "metadata": {},
     "output_type": "display_data"
    }
   ],
   "source": [
    "# Mengelompokkan data peminjaman sepeda berdasarkan jam untuk hari kerja dan akhir pekan\n",
    "weekday_rentals = hour_df[hour_df[\"workingday\"] == 1].groupby(\"hr\")[\"cnt\"].mean()\n",
    "weekend_rentals = hour_df[hour_df[\"workingday\"] == 0].groupby(\"hr\")[\"cnt\"].mean()\n",
    "\n",
    "# Membuat line chart\n",
    "plt.figure(figsize=(10, 5))\n",
    "plt.plot(weekday_rentals.index, weekday_rentals, marker='o', label=\"Hari Kerja\", linestyle='-')\n",
    "plt.plot(weekend_rentals.index, weekend_rentals, marker='s', label=\"Akhir Pekan\", linestyle='--')\n",
    "\n",
    "# Menambahkan judul dan label\n",
    "plt.title(\"Rata-rata Peminjaman Sepeda per Jam (Hari Kerja vs Akhir Pekan)\")\n",
    "plt.xlabel(\"Jam dalam Sehari\")\n",
    "plt.ylabel(\"Rata-rata Peminjaman Sepeda\")\n",
    "plt.xticks(range(0, 24))\n",
    "plt.legend()\n",
    "plt.grid(True)\n",
    "\n",
    "# Menampilkan grafik\n",
    "plt.show()"
   ]
  },
  {
   "cell_type": "markdown",
   "metadata": {
    "id": "_0-36BDLklRg"
   },
   "source": [
    "**Insight:**\n",
    "- Grafik ini menunjukkan perbedaan tren peminjaman sepeda antara hari kerja (working day) dan akhir pekan (weekend) berdasarkan jam dalam sehari.\n",
    "- Mengapa menggunakan Line Chart?\n",
    "  - Line chart digunakan karena mampu menunjukkan tren perubahan jumlah peminjaman sepeda sepanjang hari secara kontinu.\n",
    "  - Grafik ini mempermudah pemahaman mengenai pola lonjakan dan penurunan peminjaman dibandingkan hanya menggunakan tabel angka.\n",
    "- Interpretasi Visualisasi:\n",
    "  - Pada hari kerja (digambarkan dengan garis solid dan lingkaran):\n",
    "    - Terjadi dua lonjakan utama:\n",
    "      - Pukul 8 pagi → Puncak peminjaman pertama, menandakan penggunaan sepeda untuk perjalanan ke tempat kerja atau sekolah.\n",
    "      - Pukul 5-6 sore → Puncak kedua yang lebih tinggi dibanding pagi, mengindikasikan penggunaan sepeda untuk perjalanan pulang kerja/sekolah.\n",
    "    - Setelah pukul 7 malam, jumlah peminjaman sepeda turun drastis, menunjukkan bahwa sepeda jarang digunakan pada malam hari.\n",
    "  - Pada akhir pekan (digambarkan dengan garis putus-putus dan persegi):\n",
    "    - Tidak ada lonjakan signifikan seperti di hari kerja.\n",
    "    - Peminjaman meningkat secara bertahap dari pagi hingga siang, mencapai puncaknya sekitar pukul 12 hingga 3 siang.\n",
    "    - Tidak ada perbedaan signifikan antara pagi dan sore, menunjukkan bahwa sepeda lebih banyak digunakan untuk rekreasi atau aktivitas santai dibandingkan commuting.\n",
    "    - Penurunan setelah pukul 3 sore lebih lambat dibanding hari kerja, mengindikasikan bahwa orang tetap menggunakan sepeda hingga malam."
   ]
  },
  {
   "cell_type": "markdown",
   "metadata": {
    "id": "DgHI7CiU8DC2"
   },
   "source": [
    "### Pertanyaan 2: Bagaimana tren penggunaan sepeda berdasarkan musim?"
   ]
  },
  {
   "cell_type": "code",
   "execution_count": 29,
   "metadata": {
    "id": "Go0lCsvO8DC2"
   },
   "outputs": [
    {
     "data": {
      "image/png": "[encoded data removed]",
      "text/plain": [
       "<Figure size 800x500 with 1 Axes>"
      ]
     },
     "metadata": {},
     "output_type": "display_data"
    }
   ],
   "source": [
    "# Menghitung rata-rata jumlah peminjaman sepeda berdasarkan musim\n",
    "seasonal_rentals = day_df.groupby(\"season\")[\"cnt\"].mean()\n",
    "\n",
    "# Membuat bar chart untuk menampilkan rata-rata peminjaman sepeda berdasarkan musim\n",
    "plt.figure(figsize=(8, 5))\n",
    "sns.barplot(x=seasonal_rentals.index, y=seasonal_rentals.values, hue=seasonal_rentals.index, palette=\"viridis\", legend=False)\n",
    "\n",
    "# Menambahkan judul dan label sumbu\n",
    "plt.title(\"Rata-rata Peminjaman Sepeda Berdasarkan Musim\")\n",
    "plt.xlabel(\"Musim\")\n",
    "plt.ylabel(\"Rata-rata Peminjaman Sepeda\")\n",
    "\n",
    "# Menampilkan grafik\n",
    "plt.show()"
   ]
  },
  {
   "cell_type": "markdown",
   "metadata": {
    "id": "_0-36BDLklRg"
   },
   "source": [
    "**Insight:**\n",
    "- Grafik ini menunjukkan bagaimana rata-rata peminjaman sepeda bervariasi berdasarkan musim.\n",
    "- Musim dengan jumlah peminjaman tertinggi:\n",
    "  - Musim gugur (0 atau Fall) memiliki rata-rata peminjaman tertinggi dibandingkan musim lainnya.\n",
    "  - Kemungkinan besar disebabkan oleh kondisi cuaca yang ideal (tidak terlalu panas atau dingin), sehingga mendorong lebih banyak orang untuk menggunakan sepeda.\n",
    "- Musim dengan jumlah peminjaman terendah:\n",
    "  - Musim semi (1 atau Spring) memiliki rata-rata peminjaman sepeda paling rendah.\n",
    "  - Ini mungkin terkait dengan faktor cuaca, seperti hujan yang lebih sering terjadi di musim ini.\n",
    "- Tren peminjaman di musim panas (2 atau Summer) dan musim dingin (3 atau Winter):\n",
    "  - Musim panas memiliki tingkat peminjaman tinggi, meskipun sedikit lebih rendah dibandingkan musim gugur.\n",
    "  - Musim dingin memiliki jumlah peminjaman yang masih cukup tinggi, tetapi sedikit lebih rendah dibanding musim panas.\n",
    "  - Cuaca dingin mungkin mengurangi minat orang untuk bersepeda, tetapi kemungkinan besar masih ada pengguna tetap yang bergantung pada sepeda untuk transportasi."
   ]
  },
  {
   "cell_type": "markdown",
   "metadata": {
    "id": "DgHI7CiU8DC2",
    "jp-MarkdownHeadingCollapsed": true
   },
   "source": [
    "### Pertanyaan 3: Faktor apa yang paling berpengaruh terhadap jumlah peminjaman sepeda?"
   ]
  },
  {
   "cell_type": "code",
   "execution_count": 30,
   "metadata": {
    "id": "Go0lCsvO8DC2"
   },
   "outputs": [
    {
     "data": {
      "image/png": "[encoded data removed]",
      "text/plain": [
       "<Figure size 1000x500 with 1 Axes>"
      ]
     },
     "metadata": {},
     "output_type": "display_data"
    }
   ],
   "source": [
    "# Menghitung korelasi antar variabel numerik\n",
    "correlation_matrix = day_df.corr(numeric_only=True)\n",
    "\n",
    "# Mengambil korelasi antara variabel dan jumlah peminjaman sepeda\n",
    "correlation_with_cnt = correlation_matrix[\"cnt\"].drop(\"cnt\").sort_values(ascending=False)\n",
    "\n",
    "# Membuat bar chart\n",
    "plt.figure(figsize=(10, 5))\n",
    "sns.barplot(x=correlation_with_cnt.values, y=correlation_with_cnt.index, hue=correlation_with_cnt.index, palette=\"coolwarm\", legend=False)\n",
    "\n",
    "# Menambahkan judul dan label\n",
    "plt.title(\"Faktor yang Paling Berpengaruh terhadap Peminjaman Sepeda\")\n",
    "plt.xlabel(\"Korelasi dengan Jumlah Peminjaman Sepeda\")\n",
    "plt.ylabel(\"Variabel\")\n",
    "\n",
    "# Menampilkan grafik\n",
    "plt.show()"
   ]
  },
  {
   "cell_type": "code",
   "execution_count": 31,
   "metadata": {
    "id": "Go0lCsvO8DC2"
   },
   "outputs": [
    {
     "data": {
      "image/png": "[encoded data removed]",
      "text/plain": [
       "<Figure size 1000x600 with 2 Axes>"
      ]
     },
     "metadata": {},
     "output_type": "display_data"
    }
   ],
   "source": [
    "# Menghitung korelasi antar variabel numerik\n",
    "correlation_matrix = day_df.corr(numeric_only=True)\n",
    "\n",
    "# Membuat heatmap\n",
    "plt.figure(figsize=(10, 6))\n",
    "sns.heatmap(correlation_matrix, annot=True, fmt=\".2f\", cmap=\"coolwarm\", linewidths=0.5)\n",
    "\n",
    "# Menambahkan judul\n",
    "plt.title(\"Heatmap Korelasi antara Variabel\")\n",
    "\n",
    "# Menampilkan grafik\n",
    "plt.show()"
   ]
  },
  {
   "cell_type": "markdown",
   "metadata": {
    "id": "_0-36BDLklRg"
   },
   "source": [
    "**Insight:**\n",
    "- Bar Chart Korelasi dengan `cnt`:\n",
    "  - Grafik ini menunjukkan seberapa kuat hubungan antara jumlah peminjaman sepeda (`cnt`) dengan variabel lainnya.\n",
    "  - Variabel yang memiliki korelasi positif tinggi dengan peminjaman sepeda:\n",
    "    - `registered` (0.95) → Pengguna terdaftar memiliki hubungan paling kuat dengan jumlah peminjaman.\n",
    "    - `casual` (0.67) → Pengguna tidak terdaftar juga memiliki pengaruh besar, tetapi lebih rendah dari pengguna terdaftar.\n",
    "    - `temp` (0.63) → Semakin tinggi suhu, semakin banyak peminjaman sepeda, menunjukkan bahwa cuaca hangat meningkatkan penggunaan sepeda.\n",
    "    - `atemp` (0.63) → Suhu yang dirasakan memiliki pola serupa dengan suhu nyata.\n",
    "    - `yr` (0.57) → Tren peminjaman meningkat dari tahun ke tahun.\n",
    "  - Variabel yang memiliki korelasi negatif dengan peminjaman sepeda:\n",
    "    - `windspeed` (-0.23) → Kecepatan angin yang tinggi dapat mengurangi kenyamanan bersepeda.\n",
    "    - `weathersit` (-0.21) → Kondisi cuaca yang buruk (hujan, kabut, salju) menurunkan jumlah peminjaman.\n",
    "    - `hum` (-0.10) → Kelembaban tinggi memiliki sedikit pengaruh negatif terhadap peminjaman.\n",
    "- Heatmap Korelasi antar Variabel:\n",
    "  - Heatmap memberikan gambaran hubungan antara semua variabel dalam dataset.\n",
    "  - `temp` dan `atemp` memiliki korelasi tinggi, yang masuk akal karena keduanya berkaitan dengan suhu.\n",
    "  - `registered` dan `cnt` memiliki korelasi paling kuat, menunjukkan bahwa sebagian besar peminjaman berasal dari pengguna terdaftar.\n",
    "  - `windspeed` memiliki korelasi negatif dengan `cnt`, yang berarti bahwa saat angin lebih kencang, jumlah peminjaman cenderung berkurang.\n",
    "  - `weathersit` juga memiliki korelasi negatif dengan `cnt`, menunjukkan bahwa kondisi cuaca buruk mengurangi jumlah peminjaman."
   ]
  },
  {
   "cell_type": "markdown",
   "metadata": {
    "id": "9y4VUsmcYNZ5",
    "jp-MarkdownHeadingCollapsed": true
   },
   "source": [
    "## Analisis Lanjutan (Opsional)"
   ]
  },
  {
   "cell_type": "markdown",
   "metadata": {
    "id": "9y4VUsmcYNZ5"
   },
   "source": [
    "### Binning: Mengelompokkan Jumlah Peminjaman Sepeda"
   ]
  },
  {
   "cell_type": "code",
   "execution_count": 32,
   "metadata": {
    "id": "iWhnzsJGYUCO"
   },
   "outputs": [
    {
     "name": "stdout",
     "output_type": "stream",
     "text": [
      "rental_category\n",
      "Tinggi    249\n",
      "Rendah    241\n",
      "Sedang    241\n",
      "Name: count, dtype: int64\n"
     ]
    }
   ],
   "source": [
    "# Kita akan membagi `cnt` ke dalam kategori rendah, sedang, dan tinggi berdasarkan distribusi datanya.\n",
    "\n",
    "# Menentukan batas untuk binning (percentile)\n",
    "bins = [day_df[\"cnt\"].min(), day_df[\"cnt\"].quantile(0.33), day_df[\"cnt\"].quantile(0.66), day_df[\"cnt\"].max()]\n",
    "labels = [\"Rendah\", \"Sedang\", \"Tinggi\"]\n",
    "\n",
    "# Membuat kategori peminjaman sepeda\n",
    "day_df[\"rental_category\"] = pd.cut(day_df[\"cnt\"], bins=bins, labels=labels, include_lowest=True)\n",
    "\n",
    "# Menampilkan distribusi kategori\n",
    "print(day_df[\"rental_category\"].value_counts())"
   ]
  },
  {
   "cell_type": "markdown",
   "metadata": {
    "id": "_0-36BDLklRg"
   },
   "source": [
    "**Insight:**\n",
    "- Kategorisasi jumlah peminjaman sepeda (Binning) menunjukkan bahwa:\n",
    "  - 249 hari dikategorikan sebagai \"Tinggi\", artinya ada banyak hari dengan jumlah peminjaman sepeda yang sangat tinggi.\n",
    "  - 241 hari dikategorikan sebagai \"Rendah\", menunjukkan bahwa hampir sepertiga dari total hari memiliki peminjaman yang lebih sedikit.\n",
    "  - 241 hari lainnya berada dalam kategori \"Sedang\", yang berarti distribusi jumlah peminjaman cukup seimbang di antara ketiga kategori."
   ]
  },
  {
   "cell_type": "markdown",
   "metadata": {
    "id": "9y4VUsmcYNZ5"
   },
   "source": [
    "### Manual Grouping: Mengelompokkan Suhu ke dalam Kategori"
   ]
  },
  {
   "cell_type": "code",
   "execution_count": 33,
   "metadata": {
    "id": "iWhnzsJGYUCO"
   },
   "outputs": [
    {
     "name": "stdout",
     "output_type": "stream",
     "text": [
      "temp_category\n",
      "Sejuk     343\n",
      "Panas     255\n",
      "Dingin    133\n",
      "Name: count, dtype: int64\n"
     ]
    }
   ],
   "source": [
    "# Kita bisa mengelompokkan suhu (temp) ke dalam kategori \"Dingin\", \"Sejuk\", dan \"Panas\".\n",
    "\n",
    "# Menentukan batas kategori suhu berdasarkan domain knowledge\n",
    "def categorize_temperature(temp):\n",
    "    if temp < 0.3:  # Misalnya suhu di bawah 0.3 dianggap dingin\n",
    "        return \"Dingin\"\n",
    "    elif temp < 0.6:  # Suhu antara 0.3 - 0.6 dianggap sejuk\n",
    "        return \"Sejuk\"\n",
    "    else:  # Di atas 0.6 dianggap panas\n",
    "        return \"Panas\"\n",
    "\n",
    "# Menambahkan kolom kategori suhu\n",
    "day_df[\"temp_category\"] = day_df[\"temp\"].apply(categorize_temperature)\n",
    "\n",
    "# Menampilkan jumlah data dalam setiap kategori suhu\n",
    "print(day_df[\"temp_category\"].value_counts())"
   ]
  },
  {
   "cell_type": "markdown",
   "metadata": {
    "id": "_0-36BDLklRg"
   },
   "source": [
    "**Insight:**\n",
    "- Kategorisasi suhu menunjukkan bahwa:\n",
    "  - Suhu \"Sejuk\" memiliki jumlah hari terbanyak (343 hari), yang berarti mayoritas hari dalam dataset berada dalam rentang suhu ini.\n",
    "  - Suhu \"Panas\" terjadi pada 255 hari, menunjukkan bahwa ada cukup banyak hari dengan suhu tinggi, tetapi tidak sebanyak suhu sejuk.\n",
    "  - Suhu \"Dingin\" terjadi pada 133 hari, yang menandakan bahwa kondisi suhu dingin lebih jarang terjadi dibandingkan suhu sejuk dan panas.\n",
    "- Hubungan antara suhu dan jumlah peminjaman sepeda:\n",
    "  - Karena kategori \"Sejuk\" memiliki jumlah hari terbanyak, kemungkinan besar ini adalah suhu optimal untuk bersepeda.\n",
    "  - Jika dikaitkan dengan kategori peminjaman sepeda, hari dengan suhu \"Sejuk\" kemungkinan besar berkontribusi terhadap kategori \"Tinggi\" dalam jumlah peminjaman.\n",
    "  - Hari dengan suhu \"Dingin\" kemungkinan lebih banyak masuk dalam kategori peminjaman \"Rendah\", karena suhu dingin dapat membuat orang enggan bersepeda."
   ]
  },
  {
   "cell_type": "markdown",
   "metadata": {
    "id": "_WeHlCeX8DC2"
   },
   "source": [
    "## Conclusion"
   ]
  },
  {
   "cell_type": "markdown",
   "metadata": {
    "id": "ZTcyR48Y8DC2"
   },
   "source": [
    "Conclusion:\n",
    "\n",
    "Setelah melakukan serangkaian proses analisis mulai dari Data Wrangling, Exploratory Data Analysis (EDA), Visualization & Explanatory Analysis, hingga Analisis Lanjutan, berikut adalah kesimpulan utama yang dapat diambil dari hasil proyek analisis data ini:\n",
    "\n",
    "**1. Pola Peminjaman Sepeda Berdasarkan Waktu:**\n",
    "   - Peminjaman sepeda memiliki pola harian yang berbeda antara hari kerja dan akhir pekan.\n",
    "   - Pada hari kerja, peminjaman sepeda mencapai puncaknya pada jam 08:00 dan 17:00, dengan jumlah peminjaman tertinggi terjadi pada jam 17:00 sebanyak 525 peminjaman, menunjukkan bahwa sepeda banyak digunakan untuk perjalanan pulang kerja.\n",
    "   - Peminjaman terendah terjadi pada jam 03:00 dengan hanya 5 peminjaman, menunjukkan bahwa aktivitas peminjaman sepeda hampir tidak ada pada dini hari.\n",
    "   - Median peminjaman tertinggi terjadi pada jam 17:00 dengan 185 peminjaman, menegaskan bahwa penggunaan sepeda pada jam ini cukup stabil setiap harinya.\n",
    "   - Pola peminjaman pada hari kerja menunjukkan dua lonjakan utama, yaitu pada pagi hari sekitar jam 08:00 untuk perjalanan ke kantor/sekolah dan sore hari sekitar jam 17:00 - 18:00 saat orang-orang pulang kerja/sekolah.\n",
    "   - Setelah jam 19:00, peminjaman sepeda mulai turun secara signifikan hingga dini hari.\n",
    "   - Pada akhir pekan, pola peminjaman lebih merata, dengan puncak peminjaman terjadi pada jam 13:00 dengan 373 peminjaman, menunjukkan bahwa sepeda lebih sering digunakan untuk aktivitas rekreasi atau santai.\n",
    "   - Tidak ada lonjakan signifikan di pagi atau sore hari seperti pada hari kerja, menandakan bahwa pengguna sepeda pada akhir pekan lebih fleksibel dalam memilih waktu peminjaman.\n",
    "\n",
    "**2. Tren Penggunaan Sepeda Berdasarkan Musim:**\n",
    "   - Musim gugur (Fall) memiliki jumlah peminjaman tertinggi dengan total 1.061.129 peminjaman dan rata-rata 5.644 peminjaman per hari, kemungkinan karena kondisi cuaca yang ideal untuk bersepeda.\n",
    "   - Musim semi (Spring) memiliki jumlah peminjaman terendah dengan total 471.348 peminjaman dan rata-rata 2.604 peminjaman per hari, yang mungkin disebabkan oleh hujan yang lebih sering terjadi.\n",
    "   - Musim panas (Summer) dan musim dingin (Winter) memiliki jumlah peminjaman yang cukup tinggi, meskipun sedikit lebih rendah dibandingkan musim gugur.\n",
    "   - Meskipun suhu lebih dingin di musim dingin, jumlah peminjaman tetap tinggi, kemungkinan karena sepeda tetap digunakan sebagai moda transportasi utama.\n",
    "\n",
    "**3. Faktor yang Paling Berpengaruh terhadap Jumlah Peminjaman Sepeda:**\n",
    "   - Faktor yang meningkatkan peminjaman sepeda:\n",
    "     - Suhu (temp) memiliki korelasi 0.627 dengan jumlah peminjaman sepeda serta koefisien regresi 7167.80, menunjukkan bahwa semakin tinggi suhu, semakin banyak peminjaman sepeda.\n",
    "     - Musim (season) memiliki pengaruh signifikan terhadap jumlah peminjaman dengan koefisien regresi 478.97.\n",
    "   - Faktor yang menurunkan peminjaman sepeda:\n",
    "     - Kelembaban (hum) memiliki korelasi -0.100 dan koefisien regresi -3481.63, menunjukkan bahwa kelembaban tinggi menurunkan jumlah peminjaman sepeda.\n",
    "     - Kecepatan angin (windspeed) memiliki korelasi -0.234 dan koefisien regresi -4450.70, menunjukkan bahwa semakin tinggi kecepatan angin, semakin sedikit peminjaman.\n",
    "   - Faktor yang tidak memiliki pengaruh signifikan terhadap jumlah peminjaman sepeda:\n",
    "     - Suhu yang dirasakan (atemp) tidak berpengaruh signifikan terhadap jumlah peminjaman.\n",
    "     - Kondisi cuaca (weathersit) tidak signifikan secara statistik dalam menentukan jumlah peminjaman.\n",
    "\n",
    "**4. Visualization & Explanatory Analysis:**\n",
    "   - Visualisasi line chart menunjukkan pola peminjaman yang lebih fluktuatif pada hari kerja dibandingkan akhir pekan.\n",
    "   - Bar chart memperjelas bahwa musim gugur memiliki rata-rata peminjaman tertinggi, sementara musim semi memiliki peminjaman terendah.\n",
    "   - Heatmap korelasi memberikan wawasan lebih lanjut tentang hubungan antar variabel, menunjukkan bahwa suhu dan musim berkontribusi besar dalam peningkatan peminjaman, sedangkan cuaca buruk dan kecepatan angin menurunkannya.\n",
    "\n",
    "**5. Analisis Lanjutan - Kategori Peminjaman dan Suhu:**\n",
    "   - Distribusi jumlah peminjaman sepeda berdasarkan binning:\n",
    "     - 249 hari masuk kategori \"Tinggi\", yang berarti pada banyak hari, peminjaman sepeda sangat tinggi.\n",
    "     - 241 hari masuk kategori \"Sedang\", menunjukkan peminjaman yang cukup stabil.\n",
    "     - 241 hari masuk kategori \"Rendah\", menandakan adanya hari-hari tertentu di mana peminjaman sepeda lebih sedikit.\n",
    "   - Kategorisasi suhu menunjukkan bahwa suhu \"Sejuk\" memiliki jumlah hari terbanyak (343 hari).\n",
    "     - Peminjaman sepeda cenderung lebih tinggi pada hari-hari dengan suhu sejuk, sementara suhu panas dan dingin memiliki dampak yang lebih bervariasi.\n",
    "\n",
    "**Kesimpulan Bisnis dan Rekomendasi:**\n",
    "\n",
    "Berdasarkan hasil analisis, ada beberapa strategi yang dapat diterapkan untuk meningkatkan peminjaman sepeda:\n",
    "- Menyesuaikan ketersediaan sepeda berdasarkan pola peminjaman:\n",
    "  - Menyediakan lebih banyak sepeda pada jam sibuk (08:00 dan 17:00) di hari kerja.\n",
    "  - Meningkatkan jumlah sepeda di akhir pekan pada siang hari (12:00 - 15:00).\n",
    "- Strategi promosi dan harga:\n",
    "  - Memberikan diskon atau promosi khusus pada hari-hari dengan peminjaman rendah (misalnya, hari dengan suhu dingin atau hari kerja di luar jam sibuk).\n",
    "- Memprediksi permintaan berdasarkan cuaca:\n",
    "  - Menggunakan informasi suhu, kelembaban, dan kecepatan angin untuk menyesuaikan jumlah sepeda yang tersedia.\n",
    "- Meningkatkan peminjaman di musim semi:\n",
    "  - Karena musim ini memiliki peminjaman terendah, strategi seperti kampanye pemasaran atau insentif bagi pengguna baru bisa diterapkan.\n",
    "\n",
    "Secara keseluruhan, hasil analisis ini dapat membantu dalam pengambilan keputusan terkait pengelolaan sepeda, strategi pemasaran, dan prediksi permintaan sepeda di masa mendatang.\n"
   ]
  },
  {
   "cell_type": "code",
   "execution_count": 34,
   "metadata": {},
   "outputs": [
    {
     "name": "stdout",
     "output_type": "stream",
     "text": [
      "File all_data.csv berhasil dibuat!\n"
     ]
    }
   ],
   "source": [
    "# Menggabungkan hour_df dan day_df berdasarkan dteday\n",
    "all_df = pd.merge(\n",
    "    left=hour_df,  # Data peminjaman per jam\n",
    "    right=day_df,  # Data peminjaman per hari\n",
    "    how=\"left\",  # Menggunakan join kiri agar semua data dari hour_df tetap ada\n",
    "    on=\"dteday\",  # Menggabungkan berdasarkan tanggal\n",
    "    suffixes=(\"_hour\", \"_day\")  # Menambahkan akhiran agar tidak ada duplikasi nama kolom\n",
    ")\n",
    "\n",
    "# Menyimpan ke file CSV\n",
    "all_df.to_csv(\"all_data.csv\", index=False)\n",
    "\n",
    "print(\"File all_data.csv berhasil dibuat!\")"
   ]
  },
  {
   "cell_type": "code",
   "execution_count": null,
   "metadata": {},
   "outputs": [],
   "source": []
  }
 ],
 "metadata": {
  "colab": {
   "provenance": []
  },
  "kernelspec": {
   "display_name": "Python 3 (ipykernel)",
   "language": "python",
   "name": "python3"
  },
  "language_info": {
   "codemirror_mode": {
    "name": "ipython",
    "version": 3
   },
   "file_extension": ".py",
   "mimetype": "text/x-python",
   "name": "python",
   "nbconvert_exporter": "python",
   "pygments_lexer": "ipython3",
   "version": "3.9.21"
  },
  "vscode": {
   "interpreter": {
    "hash": "972b3bf27e332e87b5379f2791f6ef9dfc79c71018c370b0d7423235e20fe4d7"
   }
  }
 },
 "nbformat": 4,
 "nbformat_minor": 4
}
